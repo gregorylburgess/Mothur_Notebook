{
 "cells": [
  {
   "cell_type": "markdown",
   "metadata": {},
   "source": [
    "# Notes:\n",
    "* Transitive alignments are not accurate, find cases where transitive alignments fail.\n",
    "* Can two sequences that do not co-occur in a sample (group) ever be merged together? (Command 14)"
   ]
  },
  {
   "cell_type": "markdown",
   "metadata": {},
   "source": [
    "# 1. About\n",
    "This notebook runs through the Mothur MiSeq SOP tutorial found here: http://www.mothur.org/wiki/MiSeq_SOP .\n",
    "\n",
    "# 2. Necessary Files\n",
    "First, we should download all the files used in the tutorial.  The below cell does just that.  In total, the files are about 65MB and may take a few minutes to download/unizp.  See http://www.mothur.org/wiki/MiSeq_SOP#Logistics for more details."
   ]
  },
  {
   "cell_type": "code",
   "execution_count": 7,
   "metadata": {
    "collapsed": false
   },
   "outputs": [
    {
     "name": "stdout",
     "output_type": "stream",
     "text": [
      "Current working directory is: /home/qiime/Desktop/Mothur_Notebook/mothur_notebook\n"
     ]
    }
   ],
   "source": [
    "#####################################################\n",
    "##### Downloads and unzips all tutorial files #######\n",
    "#####################################################\n",
    "\n",
    "import urllib2\n",
    "import zipfile\n",
    "import os\n",
    "\n",
    "# make a directory for our tutorial, and jump into it\n",
    "root=\"mothur_notebook\"\n",
    "if os.getcwd().split('/')[-1] != root:\n",
    "    if not os.path.isdir(root):\n",
    "        os.mkdir(root)\n",
    "    os.chdir(root)\n",
    "print \"Current working directory is: \" + os.getcwd()\n",
    "\n",
    "# Zips to grab\n",
    "zips = ['http://www.mothur.org/w/images/5/59/Trainset9_032012.pds.zip',\n",
    "        'http://www.mothur.org/w/images/9/98/Silva.bacteria.zip',\n",
    "        'http://www.mothur.org/w/images/d/d6/MiSeqSOPData.zip']\n",
    "\n",
    "# Zip Directory names:\n",
    "seq='MiSeq_SOP'\n",
    "silva='Silva.bacteria/silva.bacteria'\n",
    "train='Trainset9_032012.pds'\n",
    "\n",
    "# Grab and unzip the zip files\n",
    "for url in zips:\n",
    "    target = url.split('/')[-1]\n",
    "    if not os.path.isfile(target):\n",
    "        resource = urllib2.urlopen(url)\n",
    "        print \"Downloading \" + target + \"...\\n\"\n",
    "        open(target,'wb').write(resource.read())\n",
    "        \n",
    "        print \"Extracting \" + target + \"...\\n\"\n",
    "        zipfile.ZipFile(target).extractall()"
   ]
  },
  {
   "cell_type": "markdown",
   "metadata": {
    "collapsed": false,
    "scrolled": true
   },
   "source": [
    "# 3. MothurMagic\n",
    "To use Mothur in IPython, we need to load the mothurmagic extension. See https://github.com/SchlossLab/ipython-mothurmagic for more details."
   ]
  },
  {
   "cell_type": "code",
   "execution_count": 4,
   "metadata": {
    "collapsed": false
   },
   "outputs": [
    {
     "name": "stderr",
     "output_type": "stream",
     "text": [
      "/home/qiime/anaconda2/lib/python2.7/site-packages/IPython/core/magics/extension.py:47: UserWarning: %install_ext` is deprecated, please distribute your extension as a python package.\n",
      "  \"as a python package.\", UserWarning)\n"
     ]
    },
    {
     "name": "stdout",
     "output_type": "stream",
     "text": [
      "Installed mothurmagic.py. To use it, type:\n",
      "  %load_ext mothurmagic\n"
     ]
    }
   ],
   "source": [
    "%install_ext https://raw.githubusercontent.com/SchlossLab/ipython-mothurmagic/master/mothurmagic.py\n",
    "%load_ext mothurmagic"
   ]
  },
  {
   "cell_type": "markdown",
   "metadata": {},
   "source": [
    "# 4. Commands\n",
    "\n",
    "## 1.  make.contigs(file=stability.files, processors=8)\n",
    "Joins left and right reads in a a fasta file.\n",
    "### 1.1 Output Files:\n",
    "<table>\n",
    "<hr><td>Output File</td><td>Description</td></hr>\n",
    "<tr><td>stability.contigs.groups     </td><td>  Which sample each sequence belongs to</td></tr>\n",
    "<tr><td>stability.scrap.contigs.fasta</td><td> \tContigs thrown out because they don't pass some criterion</td></tr>\n",
    "<tr><td>stability.scrap.contigs.qual </td><td>\tQuality of contigs thrown out because they don't pass some criterion</td></tr>\n",
    "<tr><td>stability.trim.contigs.fasta </td><td>\tAssembled for and rev sequences</td></tr>\n",
    "<tr><td>stability.contigs.qual       </td><td>  Quality assembled for and rev sequences</td></tr>\n",
    "<tr><td>stability.contigs.report     </td><td>  Assembly report for each sequence</td></tr>\n",
    "</table>"
   ]
  },
  {
   "cell_type": "code",
   "execution_count": 30,
   "metadata": {
    "collapsed": false
   },
   "outputs": [
    {
     "name": "stdout",
     "output_type": "stream",
     "text": [
      "mothur > # Joins left and right reads\n",
      "[ERROR]: You are missing (\n",
      "Invalid.\n",
      "\n",
      "mothur > set.dir(input=./MiSeq_SOP)\n",
      "Mothur's directories:\n",
      "inputDir=/home/qiime/Desktop/mothur_notebook/MiSeq_SOP/\n",
      "\n",
      "mothur > make.contigs(file=stability.files, processors=8)\n",
      "\n",
      "Using 8 processors.\n",
      "\n",
      ">>>>>\tProcessing file pair /home/qiime/Desktop/mothur_notebook/MiSeq_SOP/F3D0_S188_L001_R1_001.fastq - /home/qiime/Desktop/mothur_notebook/MiSeq_SOP/F3D0_S188_L001_R2_001.fastq (files 1 of 20)\t<<<<<\n",
      "Making contigs...\n",
      "Done.\n",
      "\n",
      "It took 2 secs to assemble 7793 reads.\n",
      "\n",
      "\n",
      ">>>>>\tProcessing file pair /home/qiime/Desktop/mothur_notebook/MiSeq_SOP/F3D141_S207_L001_R1_001.fastq - /home/qiime/Desktop/mothur_notebook/MiSeq_SOP/F3D141_S207_L001_R2_001.fastq (files 2 of 20)\t<<<<<\n",
      "Making contigs...\n",
      "Done.\n",
      "\n",
      "It took 2 secs to assemble 5958 reads.\n",
      "\n",
      "\n",
      ">>>>>\tProcessing file pair /home/qiime/Desktop/mothur_notebook/MiSeq_SOP/F3D142_S208_L001_R1_001.fastq - /home/qiime/Desktop/mothur_notebook/MiSeq_SOP/F3D142_S208_L001_R2_001.fastq (files 3 of 20)\t<<<<<\n",
      "Making contigs...\n",
      "Done.\n",
      "\n",
      "It took 1 secs to assemble 3183 reads.\n",
      "\n",
      "\n",
      ">>>>>\tProcessing file pair /home/qiime/Desktop/mothur_notebook/MiSeq_SOP/F3D143_S209_L001_R1_001.fastq - /home/qiime/Desktop/mothur_notebook/MiSeq_SOP/F3D143_S209_L001_R2_001.fastq (files 4 of 20)\t<<<<<\n",
      "Making contigs...\n",
      "Done.\n",
      "\n",
      "It took 1 secs to assemble 3178 reads.\n",
      "\n",
      "\n",
      ">>>>>\tProcessing file pair /home/qiime/Desktop/mothur_notebook/MiSeq_SOP/F3D144_S210_L001_R1_001.fastq - /home/qiime/Desktop/mothur_notebook/MiSeq_SOP/F3D144_S210_L001_R2_001.fastq (files 5 of 20)\t<<<<<\n",
      "Making contigs...\n",
      "Done.\n",
      "\n",
      "It took 1 secs to assemble 4827 reads.\n",
      "\n",
      "\n",
      ">>>>>\tProcessing file pair /home/qiime/Desktop/mothur_notebook/MiSeq_SOP/F3D145_S211_L001_R1_001.fastq - /home/qiime/Desktop/mothur_notebook/MiSeq_SOP/F3D145_S211_L001_R2_001.fastq (files 6 of 20)\t<<<<<\n",
      "Making contigs...\n",
      "Done.\n",
      "\n",
      "It took 2 secs to assemble 7377 reads.\n",
      "\n",
      "\n",
      ">>>>>\tProcessing file pair /home/qiime/Desktop/mothur_notebook/MiSeq_SOP/F3D146_S212_L001_R1_001.fastq - /home/qiime/Desktop/mothur_notebook/MiSeq_SOP/F3D146_S212_L001_R2_001.fastq (files 7 of 20)\t<<<<<\n",
      "Making contigs...\n",
      "Done.\n",
      "\n",
      "It took 1 secs to assemble 5021 reads.\n",
      "\n",
      "\n",
      ">>>>>\tProcessing file pair /home/qiime/Desktop/mothur_notebook/MiSeq_SOP/F3D147_S213_L001_R1_001.fastq - /home/qiime/Desktop/mothur_notebook/MiSeq_SOP/F3D147_S213_L001_R2_001.fastq (files 8 of 20)\t<<<<<\n",
      "Making contigs...\n",
      "Done.\n",
      "\n",
      "It took 5 secs to assemble 17070 reads.\n",
      "\n",
      "\n",
      ">>>>>\tProcessing file pair /home/qiime/Desktop/mothur_notebook/MiSeq_SOP/F3D148_S214_L001_R1_001.fastq - /home/qiime/Desktop/mothur_notebook/MiSeq_SOP/F3D148_S214_L001_R2_001.fastq (files 9 of 20)\t<<<<<\n",
      "Making contigs...\n",
      "Done.\n",
      "\n",
      "It took 3 secs to assemble 12405 reads.\n",
      "\n",
      "\n",
      ">>>>>\tProcessing file pair /home/qiime/Desktop/mothur_notebook/MiSeq_SOP/F3D149_S215_L001_R1_001.fastq - /home/qiime/Desktop/mothur_notebook/MiSeq_SOP/F3D149_S215_L001_R2_001.fastq (files 10 of 20)\t<<<<<\n",
      "Making contigs...\n",
      "Done.\n",
      "\n",
      "It took 3 secs to assemble 13083 reads.\n",
      "\n",
      "\n",
      ">>>>>\tProcessing file pair /home/qiime/Desktop/mothur_notebook/MiSeq_SOP/F3D150_S216_L001_R1_001.fastq - /home/qiime/Desktop/mothur_notebook/MiSeq_SOP/F3D150_S216_L001_R2_001.fastq (files 11 of 20)\t<<<<<\n",
      "Making contigs...\n",
      "Done.\n",
      "\n",
      "It took 2 secs to assemble 5509 reads.\n",
      "\n",
      "\n",
      ">>>>>\tProcessing file pair /home/qiime/Desktop/mothur_notebook/MiSeq_SOP/F3D1_S189_L001_R1_001.fastq - /home/qiime/Desktop/mothur_notebook/MiSeq_SOP/F3D1_S189_L001_R2_001.fastq (files 12 of 20)\t<<<<<\n",
      "Making contigs...\n",
      "Done.\n",
      "\n",
      "It took 1 secs to assemble 5869 reads.\n",
      "\n",
      "\n",
      ">>>>>\tProcessing file pair /home/qiime/Desktop/mothur_notebook/MiSeq_SOP/F3D2_S190_L001_R1_001.fastq - /home/qiime/Desktop/mothur_notebook/MiSeq_SOP/F3D2_S190_L001_R2_001.fastq (files 13 of 20)\t<<<<<\n",
      "Making contigs...\n",
      "Done.\n",
      "\n",
      "It took 6 secs to assemble 19620 reads.\n",
      "\n",
      "\n",
      ">>>>>\tProcessing file pair /home/qiime/Desktop/mothur_notebook/MiSeq_SOP/F3D3_S191_L001_R1_001.fastq - /home/qiime/Desktop/mothur_notebook/MiSeq_SOP/F3D3_S191_L001_R2_001.fastq (files 14 of 20)\t<<<<<\n",
      "Making contigs...\n",
      "Done.\n",
      "\n",
      "It took 1 secs to assemble 6758 reads.\n",
      "\n",
      "\n",
      ">>>>>\tProcessing file pair /home/qiime/Desktop/mothur_notebook/MiSeq_SOP/F3D5_S193_L001_R1_001.fastq - /home/qiime/Desktop/mothur_notebook/MiSeq_SOP/F3D5_S193_L001_R2_001.fastq (files 15 of 20)\t<<<<<\n",
      "Making contigs...\n",
      "Done.\n",
      "\n",
      "It took 2 secs to assemble 4448 reads.\n",
      "\n",
      "\n",
      ">>>>>\tProcessing file pair /home/qiime/Desktop/mothur_notebook/MiSeq_SOP/F3D6_S194_L001_R1_001.fastq - /home/qiime/Desktop/mothur_notebook/MiSeq_SOP/F3D6_S194_L001_R2_001.fastq (files 16 of 20)\t<<<<<\n",
      "Making contigs...\n",
      "Done.\n",
      "\n",
      "It took 2 secs to assemble 7989 reads.\n",
      "\n",
      "\n",
      ">>>>>\tProcessing file pair /home/qiime/Desktop/mothur_notebook/MiSeq_SOP/F3D7_S195_L001_R1_001.fastq - /home/qiime/Desktop/mothur_notebook/MiSeq_SOP/F3D7_S195_L001_R2_001.fastq (files 17 of 20)\t<<<<<\n",
      "Making contigs...\n",
      "Done.\n",
      "\n",
      "It took 1 secs to assemble 5129 reads.\n",
      "\n",
      "\n",
      ">>>>>\tProcessing file pair /home/qiime/Desktop/mothur_notebook/MiSeq_SOP/F3D8_S196_L001_R1_001.fastq - /home/qiime/Desktop/mothur_notebook/MiSeq_SOP/F3D8_S196_L001_R2_001.fastq (files 18 of 20)\t<<<<<\n",
      "Making contigs...\n",
      "Done.\n",
      "\n",
      "It took 2 secs to assemble 5294 reads.\n",
      "\n",
      "\n",
      ">>>>>\tProcessing file pair /home/qiime/Desktop/mothur_notebook/MiSeq_SOP/F3D9_S197_L001_R1_001.fastq - /home/qiime/Desktop/mothur_notebook/MiSeq_SOP/F3D9_S197_L001_R2_001.fastq (files 19 of 20)\t<<<<<\n",
      "Making contigs...\n",
      "Done.\n",
      "\n",
      "It took 2 secs to assemble 7070 reads.\n",
      "\n",
      "\n",
      ">>>>>\tProcessing file pair /home/qiime/Desktop/mothur_notebook/MiSeq_SOP/Mock_S280_L001_R1_001.fastq - /home/qiime/Desktop/mothur_notebook/MiSeq_SOP/Mock_S280_L001_R2_001.fastq (files 20 of 20)\t<<<<<\n",
      "Making contigs...\n",
      "Done.\n",
      "\n",
      "It took 1 secs to assemble 4779 reads.\n",
      "\n",
      "It took 41 secs to process 152360 sequences.\n",
      "\n",
      "Group count:\n",
      "F3D0\t7793\n",
      "F3D1\t5869\n",
      "F3D141\t5958\n",
      "F3D142\t3183\n",
      "F3D143\t3178\n",
      "F3D144\t4827\n",
      "F3D145\t7377\n",
      "F3D146\t5021\n",
      "F3D147\t17070\n",
      "F3D148\t12405\n",
      "F3D149\t13083\n",
      "F3D150\t5509\n",
      "F3D2\t19620\n",
      "F3D3\t6758\n",
      "F3D5\t4448\n",
      "F3D6\t7989\n",
      "F3D7\t5129\n",
      "F3D8\t5294\n",
      "F3D9\t7070\n",
      "Mock\t4779\n",
      "\n",
      "Total of all groups is 152360\n",
      "\n",
      "Output File Names:\n",
      "/home/qiime/Desktop/mothur_notebook/MiSeq_SOP/stability.trim.contigs.fasta\n",
      "/home/qiime/Desktop/mothur_notebook/MiSeq_SOP/stability.trim.contigs.qual\n",
      "/home/qiime/Desktop/mothur_notebook/MiSeq_SOP/stability.contigs.report\n",
      "/home/qiime/Desktop/mothur_notebook/MiSeq_SOP/stability.scrap.contigs.fasta\n",
      "/home/qiime/Desktop/mothur_notebook/MiSeq_SOP/stability.scrap.contigs.qual\n",
      "/home/qiime/Desktop/mothur_notebook/MiSeq_SOP/stability.contigs.groups\n",
      "\n",
      "[WARNING]: your sequence names contained ':'.  I changed them to '_' to avoid problems in your downstream analysis.\n",
      "\n",
      "mothur > quit()\n",
      "\n",
      "\n",
      "************************************************************\n",
      "************************************************************\n",
      "************************************************************\n",
      "Detected 1 [ERROR] messages, please review.\n",
      "************************************************************\n",
      "************************************************************\n",
      "************************************************************\n",
      "\n",
      "\n",
      "<<<<<<<<<<<<<<<<<<<<<<<<<<<<<<^>>>>>>>>>>>>>>>>>>>>>>>>>>>>>\n",
      "<<<<<<<<<<<<<<<<<<<<<<<<<<<<<<^>>>>>>>>>>>>>>>>>>>>>>>>>>>>>\n",
      "<<<<<<<<<<<<<<<<<<<<<<<<<<<<<<^>>>>>>>>>>>>>>>>>>>>>>>>>>>>>\n",
      "Detected 1 [WARNING] messages, please review.\n",
      "<<<<<<<<<<<<<<<<<<<<<<<<<<<<<<^>>>>>>>>>>>>>>>>>>>>>>>>>>>>>\n",
      "<<<<<<<<<<<<<<<<<<<<<<<<<<<<<<^>>>>>>>>>>>>>>>>>>>>>>>>>>>>>\n",
      "<<<<<<<<<<<<<<<<<<<<<<<<<<<<<<^>>>>>>>>>>>>>>>>>>>>>>>>>>>>>\n"
     ]
    }
   ],
   "source": [
    "%%mothur\n",
    "set.dir(input=./MiSeq_SOP)\n",
    "make.contigs(file=stability.files, processors=8)"
   ]
  },
  {
   "cell_type": "markdown",
   "metadata": {},
   "source": [
    "## 2.  summary.seqs(fasta=stability.trim.contigs.fasta)\n",
    "Summarizes a fasta file.\n",
    "### 2.1 Output Files\n",
    "<table>\n",
    "<hr><td>Output File</td><td>Description</td></hr>\n",
    "<tr><td>stability.trim.contigs.summary\t</td><td>  For each sequence name, keeps track of length, nbases, homopolymers and dereplication count.</td></tr>\n",
    "</table>"
   ]
  },
  {
   "cell_type": "code",
   "execution_count": 32,
   "metadata": {
    "collapsed": false
   },
   "outputs": [
    {
     "name": "stdout",
     "output_type": "stream",
     "text": [
      "mothur > set.dir(input=./MiSeq_SOP)\n",
      "Mothur's directories:\n",
      "inputDir=/home/qiime/Desktop/mothur_notebook/MiSeq_SOP/\n",
      "\n",
      "mothur > summary.seqs(fasta=stability.trim.contigs.fasta)\n",
      "\n",
      "Using 1 processors.\n",
      "\n",
      "Start\tEnd\tNBases\tAmbigs\tPolymer\tNumSeqs\n",
      "Minimum:\t1\t248\t248\t0\t3\t1\n",
      "2.5%-tile:\t1\t252\t252\t0\t3\t3810\n",
      "25%-tile:\t1\t252\t252\t0\t4\t38091\n",
      "Median: \t1\t252\t252\t0\t4\t76181\n",
      "75%-tile:\t1\t253\t253\t0\t5\t114271\n",
      "97.5%-tile:\t1\t253\t253\t6\t6\t148552\n",
      "Maximum:\t1\t502\t502\t249\t243\t152360\n",
      "Mean:\t1\t252.811\t252.811\t0.70063\t4.44854\n",
      "# of Seqs:\t152360\n",
      "\n",
      "Output File Names:\n",
      "/home/qiime/Desktop/mothur_notebook/MiSeq_SOP/stability.trim.contigs.summary\n",
      "\n",
      "It took 2 secs to summarize 152360 sequences.\n",
      "\n",
      "mothur > quit()\n"
     ]
    }
   ],
   "source": [
    "%%mothur\n",
    "set.dir(input=./MiSeq_SOP)\n",
    "summary.seqs(fasta=stability.trim.contigs.fasta)"
   ]
  },
  {
   "cell_type": "markdown",
   "metadata": {},
   "source": [
    "## 3.  screen.seqs(fasta=stability.trim.contigs.fasta, group=stability.contigs.groups, maxambig=0, maxlength=275)\n",
    "Removes sequences that do not match specified parameters.\n",
    "### 3.1 Output Files\n",
    "<table>\n",
    "<hr><td>Output File</td><td>Description</td></hr>\n",
    "<tr><td>stability.trim.contigs.good.fasta</td><td> \tSequences that contain 0 ambig and are shorter than 275</td></tr>\n",
    "<tr><td>stability.trim.contigs.bad.accnos</td><td> \tList of bad sequences and the reason they were discarded, i.e. number of ambigs or len</td></tr>\n",
    "<tr><td>stability.contigs.good.groups\t </td><td> \tFor each sequence, litst the group to which it belongs</td></tr>\n",
    "</table>"
   ]
  },
  {
   "cell_type": "code",
   "execution_count": 33,
   "metadata": {
    "collapsed": false
   },
   "outputs": [
    {
     "name": "stdout",
     "output_type": "stream",
     "text": [
      "mothur > set.dir(input=./MiSeq_SOP)\n",
      "Mothur's directories:\n",
      "inputDir=/home/qiime/Desktop/mothur_notebook/MiSeq_SOP/\n",
      "\n",
      "mothur > screen.seqs(fasta=stability.trim.contigs.fasta, group=stability.contigs.groups, maxambig=0, maxlength=275)\n",
      "\n",
      "Using 1 processors.\n",
      "\n",
      "Output File Names:\n",
      "/home/qiime/Desktop/mothur_notebook/MiSeq_SOP/stability.trim.contigs.good.fasta\n",
      "/home/qiime/Desktop/mothur_notebook/MiSeq_SOP/stability.trim.contigs.bad.accnos\n",
      "/home/qiime/Desktop/mothur_notebook/MiSeq_SOP/stability.contigs.good.groups\n",
      "\n",
      "\n",
      "It took 2 secs to screen 152360 sequences.\n",
      "\n",
      "mothur > quit()\n"
     ]
    }
   ],
   "source": [
    "%%mothur\n",
    "set.dir(input=./MiSeq_SOP)\n",
    "screen.seqs(fasta=stability.trim.contigs.fasta, group=stability.contigs.groups, maxambig=0, maxlength=275)"
   ]
  },
  {
   "cell_type": "markdown",
   "metadata": {},
   "source": [
    "## 4.  unique.seqs(fasta=stability.trim.contigs.good.fasta)\n",
    "Dereplicates identical sequences, keeping track of related sequences.\n",
    "### 4.1 Output Files\n",
    "<table>\n",
    "<hr><td>Output File</td><td>Description</td></hr>\n",
    "<tr><td>stability.trim.contigs.good.names</td><td> \tTab file; for a sequence, list all the sequences that are completely identical</td></tr>\n",
    "<tr><td>stability.trim.contigs.good.unique.fasta</td><td> \tList of unique sequences</td></tr>\n",
    "</table>"
   ]
  },
  {
   "cell_type": "code",
   "execution_count": 35,
   "metadata": {
    "collapsed": false
   },
   "outputs": [
    {
     "name": "stdout",
     "output_type": "stream",
     "text": [
      "mothur > set.dir(input=./MiSeq_SOP)\n",
      "Mothur's directories:\n",
      "inputDir=/home/qiime/Desktop/mothur_notebook/MiSeq_SOP/\n",
      "\n",
      "mothur > unique.seqs(fasta=stability.trim.contigs.good.fasta)\n",
      "128872\t16426\n",
      "\n",
      "Output File Names:\n",
      "/home/qiime/Desktop/mothur_notebook/MiSeq_SOP/stability.trim.contigs.good.names\n",
      "/home/qiime/Desktop/mothur_notebook/MiSeq_SOP/stability.trim.contigs.good.unique.fasta\n",
      "\n",
      "\n",
      "mothur > quit()\n"
     ]
    }
   ],
   "source": [
    "%%mothur\n",
    "set.dir(input=./MiSeq_SOP)\n",
    "unique.seqs(fasta=stability.trim.contigs.good.fasta)"
   ]
  },
  {
   "cell_type": "markdown",
   "metadata": {},
   "source": [
    "## 5.  count.seqs(name=stability.trim.contigs.good.names, group=stability.contigs.good.groups)\n",
    "Creates a table counting the abundance of each sequence in each sample (group).\n",
    "### 5.1 Output Files\n",
    "<table>\n",
    "<hr><td>Output File</td><td>Description</td></hr>\n",
    "<tr><td>stability.trim.contigs.good.count_table</td><td> \tTable where row are unique seqs and cols are sample. Cell represent abundance of seq in samples</td></tr>\n",
    "</table>"
   ]
  },
  {
   "cell_type": "code",
   "execution_count": 37,
   "metadata": {
    "collapsed": false
   },
   "outputs": [
    {
     "name": "stdout",
     "output_type": "stream",
     "text": [
      "mothur > set.dir(input=./MiSeq_SOP)\n",
      "Mothur's directories:\n",
      "inputDir=/home/qiime/Desktop/mothur_notebook/MiSeq_SOP/\n",
      "\n",
      "mothur > count.seqs(name=stability.trim.contigs.good.names, group=stability.contigs.good.groups)\n",
      "\n",
      "Using 1 processors.\n",
      "It took 1 secs to create a table for 128872 sequences.\n",
      "\n",
      "\n",
      "Total number of sequences: 128872\n",
      "\n",
      "Output File Names:\n",
      "/home/qiime/Desktop/mothur_notebook/MiSeq_SOP/stability.trim.contigs.good.count_table\n",
      "\n",
      "\n",
      "mothur > quit()\n"
     ]
    }
   ],
   "source": [
    "%%mothur\n",
    "set.dir(input=./MiSeq_SOP)\n",
    "count.seqs(name=stability.trim.contigs.good.names, group=stability.contigs.good.groups)"
   ]
  },
  {
   "cell_type": "markdown",
   "metadata": {},
   "source": [
    "## 6.  summary.seqs(fasta=stability.trim.contigs.good.unique.fasta, count=stability.trim.contigs.good.count_table)\n",
    "Summarizes a fasta file.  In this case, summarizing the list of unique sequences and updating their abundance.\n",
    "### 6.1 Output Files\n",
    "<table>\n",
    "<hr><td>Output File</td><td>Description</td></hr>\n",
    "<tr><td>stability.trim.contigs.good.unique.summary </td><td> \tSubset of sequences that are unique. Only difference with their description in the previous summary is the numSeqs column, which now contains the total number of sequences included into this sequence</td></tr>\n",
    "</table>"
   ]
  },
  {
   "cell_type": "code",
   "execution_count": 38,
   "metadata": {
    "collapsed": false
   },
   "outputs": [
    {
     "name": "stdout",
     "output_type": "stream",
     "text": [
      "mothur > set.dir(input=./MiSeq_SOP)\n",
      "Mothur's directories:\n",
      "inputDir=/home/qiime/Desktop/mothur_notebook/MiSeq_SOP/\n",
      "\n",
      "mothur > summary.seqs(fasta=stability.trim.contigs.good.unique.fasta, count=stability.trim.contigs.good.count_table)\n",
      "\n",
      "Using 1 processors.\n",
      "\n",
      "Start\tEnd\tNBases\tAmbigs\tPolymer\tNumSeqs\n",
      "Minimum:\t1\t250\t250\t0\t3\t1\n",
      "2.5%-tile:\t1\t252\t252\t0\t3\t3222\n",
      "25%-tile:\t1\t252\t252\t0\t4\t32219\n",
      "Median: \t1\t252\t252\t0\t4\t64437\n",
      "75%-tile:\t1\t253\t253\t0\t5\t96655\n",
      "97.5%-tile:\t1\t253\t253\t0\t6\t125651\n",
      "Maximum:\t1\t270\t270\t0\t12\t128872\n",
      "Mean:\t1\t252.462\t252.462\t0\t4.36693\n",
      "# of unique seqs:\t16426\n",
      "total # of seqs:\t128872\n",
      "\n",
      "Output File Names:\n",
      "/home/qiime/Desktop/mothur_notebook/MiSeq_SOP/stability.trim.contigs.good.unique.summary\n",
      "\n",
      "It took 1 secs to summarize 128872 sequences.\n",
      "\n",
      "mothur > quit()\n"
     ]
    }
   ],
   "source": [
    "%%mothur\n",
    "set.dir(input=./MiSeq_SOP)\n",
    "summary.seqs(fasta=stability.trim.contigs.good.unique.fasta, count=stability.trim.contigs.good.count_table)"
   ]
  },
  {
   "cell_type": "markdown",
   "metadata": {},
   "source": [
    "## 7.  pcr.seqs(fasta=silva.bacteria/silva.bacteria.fasta, start=11894, end=25319, keepdots=F, processors=4)\n",
    "Trims the fasta file (in this case the reference DataBase) to the specified region., i.e, 11894 to 25319\n",
    "### 7.1 Output Files\n",
    "<table>\n",
    "<hr><td>Output File</td><td>Description</td></hr>\n",
    "<tr><td>../silva.bacteria/silva.bacteria.pcr.fasta </td><td> \tThe trimmed fasta file (DB)</td></tr>\n",
    "</table>"
   ]
  },
  {
   "cell_type": "code",
   "execution_count": 60,
   "metadata": {
    "collapsed": false
   },
   "outputs": [
    {
     "name": "stdout",
     "output_type": "stream",
     "text": [
      "mothur > set.dir(input=./MiSeq_SOP)\n",
      "Mothur's directories:\n",
      "inputDir=/home/qiime/Desktop/mothur_notebook/MiSeq_SOP/\n",
      "\n",
      "mothur > pcr.seqs(fasta=silva.bacteria/silva.bacteria.fasta, start=11894, end=25319, keepdots=F, processors=4)\n",
      "\n",
      "Using 4 processors.\n",
      "\n",
      "Output File Names:\n",
      "silva.bacteria/silva.bacteria.pcr.fasta\n",
      "\n",
      "\n",
      "It took 7 secs to screen 14956 sequences.\n",
      "\n",
      "mothur > quit()\n"
     ]
    }
   ],
   "source": [
    "%%mothur\n",
    "set.dir(input=./MiSeq_SOP)\n",
    "pcr.seqs(fasta=silva.bacteria/silva.bacteria.fasta, start=11894, end=25319, keepdots=F, processors=4)"
   ]
  },
  {
   "cell_type": "markdown",
   "metadata": {},
   "source": [
    "## 8. system(mv silva.bacteria/silva.bacteria.pcr.fasta ref/silva.bacteria/silva.v4.fasta)\n",
    "Renames the file 'silva.bacteria/silva.bacteria.pcr.fasta' to 'silva.bacteria/silva.v4.fasta'\n",
    "### 8.1 Output Files\n",
    "<table>\n",
    "<hr><td>Output File</td><td>Description</td></hr>\n",
    "<tr><td>silva.bacteria/silva.v4.fasta </td><td> \tThe renamed file</td></tr>\n",
    "</table>"
   ]
  },
  {
   "cell_type": "code",
   "execution_count": 64,
   "metadata": {
    "collapsed": false
   },
   "outputs": [
    {
     "name": "stdout",
     "output_type": "stream",
     "text": [
      "mothur > system(mv silva.bacteria/silva.bacteria.pcr.fasta silva.bacteria/silva.v4.fasta)\n",
      "\n",
      "\n",
      "mothur > quit()\n"
     ]
    }
   ],
   "source": [
    "%%mothur\n",
    "system(mv silva.bacteria/silva.bacteria.pcr.fasta silva.bacteria/silva.v4.fasta)"
   ]
  },
  {
   "cell_type": "markdown",
   "metadata": {},
   "source": [
    "## 9.  align.seqs(fasta=stability.trim.contigs.good.unique.fasta, reference=silva.bacteria/silva.v4.fasta)\n",
    "Align our unique sequences against the reference DataBase\n",
    "### 9.1 Output Files\n",
    "<table>\n",
    "<hr><td>Output File</td><td>Description</td></hr>\n",
    "<tr><td>stability.trim.contigs.good.unique.align </td><td> \tThe reads alignment file (not including DB seqs)</td></tr>\n",
    "<tr><td>stability.trim.contigs.good.unique.align.report </td><td> \tContains pairwise alignment information for the sequences and their hits. Ex. alignment length, start in query, start in hit, end in query, etc.</td></tr>\n",
    "</table>"
   ]
  },
  {
   "cell_type": "code",
   "execution_count": 6,
   "metadata": {
    "collapsed": false
   },
   "outputs": [
    {
     "name": "stdout",
     "output_type": "stream",
     "text": [
      "mothur > set.dir(input=./MiSeq_SOP)\n",
      "Mothur's directories:\n",
      "/home/qiime/Desktop/Mothur_Notebook/MiSeq_SOP/ directory does not exist or is not writable.\n",
      "\n",
      "mothur > align.seqs(fasta=stability.trim.contigs.good.unique.fasta, reference=silva.bacteria/silva.v4.fasta)\n",
      "Unable to open stability.trim.contigs.good.unique.fasta. Trying default /home/qiime/mothur/mothur/stability.trim.contigs.good.unique.fasta\n",
      "Unable to open /home/qiime/mothur/mothur/stability.trim.contigs.good.unique.fasta. It will be disregarded.\n",
      "no valid files.\n",
      "\n",
      "Using 1 processors.\n",
      "Unable to open silva.bacteria/silva.v4.fasta. Trying default /home/qiime/mothur/mothur/silva.v4.fasta\n",
      "Unable to open /home/qiime/mothur/mothur/silva.v4.fasta\n",
      "[ERROR]: did not complete align.seqs.\n",
      "\n",
      "mothur > quit()\n",
      "\n",
      "\n",
      "************************************************************\n",
      "************************************************************\n",
      "************************************************************\n",
      "Detected 1 [ERROR] messages, please review.\n",
      "************************************************************\n",
      "************************************************************\n",
      "************************************************************\n"
     ]
    }
   ],
   "source": [
    "%%mothur\n",
    "set.dir(input=./MiSeq_SOP)\n",
    "align.seqs(fasta=stability.trim.contigs.good.unique.fasta, reference=silva.bacteria/silva.v4.fasta)"
   ]
  },
  {
   "cell_type": "markdown",
   "metadata": {
    "collapsed": true
   },
   "source": [
    "## 10.  summary.seqs(fasta=stability.trim.contigs.good.unique.align, count=stability.trim.contigs.good.count_table)\n",
    "Summarizes a fasta file.  In this case, updates the start & stop columns to reflect the new alignment.\n",
    "### 10.1 Output Files\n",
    "<table>\n",
    "<hr><td>Output File</td><td>Description</td></hr>\n",
    "<tr><td>stability.trim.contigs.good.unique.summary</td><td> \tUpdates the new start and end values for each of the sequence within the context of the larger alignement</td></tr>\n",
    "</table>\n",
    " "
   ]
  },
  {
   "cell_type": "code",
   "execution_count": 8,
   "metadata": {
    "collapsed": false
   },
   "outputs": [
    {
     "name": "stdout",
     "output_type": "stream",
     "text": [
      "mothur > set.dir(input=./MiSeq_SOP)\n",
      "Mothur's directories:\n",
      "inputDir=/home/qiime/Desktop/Mothur_Notebook/mothur_notebook/MiSeq_SOP/\n",
      "\n",
      "mothur > summary.seqs(fasta=stability.trim.contigs.good.unique.align, count=stability.trim.contigs.good.count_table)\n",
      "\n",
      "Using 1 processors.\n",
      "\n",
      "Start\tEnd\tNBases\tAmbigs\tPolymer\tNumSeqs\n",
      "Minimum:\t1250\t10693\t250\t0\t3\t1\n",
      "2.5%-tile:\t1968\t11550\t252\t0\t3\t3222\n",
      "25%-tile:\t1968\t11550\t252\t0\t4\t32219\n",
      "Median: \t1968\t11550\t252\t0\t4\t64437\n",
      "75%-tile:\t1968\t11550\t253\t0\t5\t96655\n",
      "97.5%-tile:\t1968\t11550\t253\t0\t6\t125651\n",
      "Maximum:\t1982\t13400\t270\t0\t12\t128872\n",
      "Mean:\t1967.99\t11550\t252.462\t0\t4.36693\n",
      "# of unique seqs:\t16426\n",
      "total # of seqs:\t128872\n",
      "\n",
      "Output File Names:\n",
      "/home/qiime/Desktop/Mothur_Notebook/mothur_notebook/MiSeq_SOP/stability.trim.contigs.good.unique.summary\n",
      "\n",
      "It took 5 secs to summarize 128872 sequences.\n",
      "\n",
      "mothur > quit()\n"
     ]
    }
   ],
   "source": [
    "%%mothur\n",
    "set.dir(input=./MiSeq_SOP)\n",
    "summary.seqs(fasta=stability.trim.contigs.good.unique.align, count=stability.trim.contigs.good.count_table)"
   ]
  },
  {
   "cell_type": "markdown",
   "metadata": {
    "collapsed": true
   },
   "source": [
    "## 11.  screen.seqs(fasta=stability.trim.contigs.good.unique.align, count=stability.trim.contigs.good.count_table, summary=stability.trim.contigs.good.unique.summary, start=1968, end=11550, maxhomop=8)\n",
    "Removes sequences with that start after 1968 or end before 11550.  This enables alignment with the database\n",
    "### 11.1 Output Files\n",
    "<table>\n",
    "<hr><td>Output File</td><td>Description</td></hr>\n",
    "<tr><td>stability.trim.contigs.good.good.count_table</td><td> \t New table with updated counts that show removed sequences</td></tr>\n",
    "<tr><td>stability.trim.contigs.good.unique.good.align</td><td> \t Alignment file without the removed sequences</td></tr>\n",
    "<tr><td>stability.trim.contigs.good.unique.bad.accnos</td><td>   Sequences that were removed and reason for removal</td></tr>\n",
    "<tr><td>stability.trim.contigs.good.unique.good.summary</td><td> New summary file without the removed sequences</td></tr>\n",
    "</table>"
   ]
  },
  {
   "cell_type": "code",
   "execution_count": 10,
   "metadata": {
    "collapsed": false
   },
   "outputs": [
    {
     "name": "stdout",
     "output_type": "stream",
     "text": [
      "mothur > set.dir(input=./MiSeq_SOP)\n",
      "Mothur's directories:\n",
      "inputDir=/home/qiime/Desktop/Mothur_Notebook/mothur_notebook/MiSeq_SOP/\n",
      "\n",
      "mothur > screen.seqs(fasta=stability.trim.contigs.good.unique.align, count=stability.trim.contigs.good.count_table, summary=stability.trim.contigs.good.unique.summary, start=1968, end=11550, maxhomop=8)\n",
      "\n",
      "Using 1 processors.\n",
      "\n",
      "Output File Names:\n",
      "/home/qiime/Desktop/Mothur_Notebook/mothur_notebook/MiSeq_SOP/stability.trim.contigs.good.unique.good.summary\n",
      "/home/qiime/Desktop/Mothur_Notebook/mothur_notebook/MiSeq_SOP/stability.trim.contigs.good.unique.good.align\n",
      "/home/qiime/Desktop/Mothur_Notebook/mothur_notebook/MiSeq_SOP/stability.trim.contigs.good.unique.bad.accnos\n",
      "/home/qiime/Desktop/Mothur_Notebook/mothur_notebook/MiSeq_SOP/stability.trim.contigs.good.good.count_table\n",
      "\n",
      "\n",
      "It took 5 secs to screen 16426 sequences.\n",
      "\n",
      "mothur > quit()\n"
     ]
    }
   ],
   "source": [
    "%%mothur\n",
    "set.dir(input=./MiSeq_SOP)\n",
    "screen.seqs(fasta=stability.trim.contigs.good.unique.align, count=stability.trim.contigs.good.count_table, summary=stability.trim.contigs.good.unique.summary, start=1968, end=11550, maxhomop=8)"
   ]
  },
  {
   "cell_type": "markdown",
   "metadata": {},
   "source": [
    "## 12.  filter.seqs(fasta=stability.trim.contigs.good.unique.good.align, vertical=T, trump=.)\n",
    "Removes gap-only ('-') columns, and any columns containing a '.' from all alignments.\n",
    "### 12.1 Output Files\n",
    "<table>\n",
    "<hr><td>Output File</td><td>Description</td></hr>\n",
    "<tr><td>stability.trim.contigs.good.unique.good.filter.fasta</td><td> \t New trimmed alignment without dots or dashes</td></tr>\n",
    "</table>"
   ]
  },
  {
   "cell_type": "code",
   "execution_count": 13,
   "metadata": {
    "collapsed": false
   },
   "outputs": [
    {
     "name": "stdout",
     "output_type": "stream",
     "text": [
      "mothur > set.dir(input=./MiSeq_SOP)\n",
      "Mothur's directories:\n",
      "inputDir=/home/qiime/Desktop/Mothur_Notebook/mothur_notebook/MiSeq_SOP/\n",
      "\n",
      "mothur > filter.seqs(fasta=stability.trim.contigs.good.unique.good.align, vertical=T, trump=.)\n",
      "\n",
      "Using 1 processors.\n",
      "Creating Filter...\n",
      "\n",
      "\n",
      "Running Filter...\n",
      "\n",
      "\n",
      "\n",
      "Length of filtered alignment: 376\n",
      "Number of columns removed: 13049\n",
      "Length of the original alignment: 13425\n",
      "Number of sequences used to construct filter: 16298\n",
      "\n",
      "Output File Names:\n",
      "/home/qiime/Desktop/Mothur_Notebook/mothur_notebook/MiSeq_SOP/stability.filter\n",
      "/home/qiime/Desktop/Mothur_Notebook/mothur_notebook/MiSeq_SOP/stability.trim.contigs.good.unique.good.filter.fasta\n",
      "\n",
      "\n",
      "mothur > quit()\n"
     ]
    }
   ],
   "source": [
    "%%mothur\n",
    "set.dir(input=./MiSeq_SOP)\n",
    "filter.seqs(fasta=stability.trim.contigs.good.unique.good.align, vertical=T, trump=.)"
   ]
  },
  {
   "cell_type": "markdown",
   "metadata": {},
   "source": [
    "## 13.  unique.seqs(fasta=stability.trim.contigs.good.unique.good.filter.fasta, count=stability.trim.contigs.good.good.count_table)\n",
    "Filtering in the previous step may have introduced duplicates, dereplicate these and keep track of their counts\n",
    "### 13.1 Output Files\n",
    "<table>\n",
    "<hr><td>Output File</td><td>Description</td></hr>\n",
    "<tr><td>stability.trim.contigs.good.unique.good.filter.count_table</td><td> \t New table with updated counts that show dereplicated sequences</td></tr>\n",
    "<tr><td>stability.trim.contigs.good.unique.good.filter.unique.fasta</td><td> \t New alignment without the replicated sequences</td></tr>\n",
    "</table>"
   ]
  },
  {
   "cell_type": "code",
   "execution_count": 17,
   "metadata": {
    "collapsed": false
   },
   "outputs": [
    {
     "name": "stdout",
     "output_type": "stream",
     "text": [
      "mothur > set.dir(input=./MiSeq_SOP)\n",
      "Mothur's directories:\n",
      "inputDir=/home/qiime/Desktop/Mothur_Notebook/mothur_notebook/MiSeq_SOP/\n",
      "\n",
      "mothur > unique.seqs(fasta=stability.trim.contigs.good.unique.good.filter.fasta, count=stability.trim.contigs.good.good.count_table)\n",
      "16298\t16295\n",
      "\n",
      "Output File Names:\n",
      "/home/qiime/Desktop/Mothur_Notebook/mothur_notebook/MiSeq_SOP/stability.trim.contigs.good.unique.good.filter.count_table\n",
      "/home/qiime/Desktop/Mothur_Notebook/mothur_notebook/MiSeq_SOP/stability.trim.contigs.good.unique.good.filter.unique.fasta\n",
      "\n",
      "\n",
      "mothur > quit()\n"
     ]
    }
   ],
   "source": [
    "%%mothur\n",
    "set.dir(input=./MiSeq_SOP)\n",
    "unique.seqs(fasta=stability.trim.contigs.good.unique.good.filter.fasta, count=stability.trim.contigs.good.good.count_table)"
   ]
  },
  {
   "cell_type": "markdown",
   "metadata": {},
   "source": [
    "## 14.  pre.cluster(fasta=stability.trim.contigs.good.unique.good.filter.unique.fasta, count=stability.trim.contigs.good.unique.good.filter.count_table, diffs=2)\n",
    "Removes sequences with pyrosequencing errors by clustering within groups (samples) sequences that are within 2bp of eachother.\n",
    "### 14.1 Output Files\n",
    "<table>\n",
    "<hr><td>Output File</td><td>Description</td></hr>\n",
    "<tr><td>stability.trim.contigs.good.unique.good.filter.unique.precluster.fasta</td><td>Contains all the clusters representatives</td></tr>\n",
    "<tr><td> stability.trim.contigs.good.unique.good.filter.unique.precluster.count_table </td><td> New counts that represent merged, similar (within 2bp) sequences </td></tr>\n",
    "<tr><td>stability.trim.contigs.good.unique.good.filter.unique.precluster.F3D0.map  </td><td> Shows the clusters for each sample (group) </td></tr>\n",
    "<tr><td> ...other samples map files </td><td> ... </td></tr>\n",
    "<tr><td> stability.trim.contigs.good.unique.good.filter.unique.precluster.F3D9.map </td><td> Shows the clusters for each sample (group) </td></tr>\n",
    " \n",
    "</table>"
   ]
  },
  {
   "cell_type": "code",
   "execution_count": 18,
   "metadata": {
    "collapsed": false
   },
   "outputs": [
    {
     "name": "stdout",
     "output_type": "stream",
     "text": [
      "mothur > set.dir(input=./MiSeq_SOP)\n",
      "Mothur's directories:\n",
      "inputDir=/home/qiime/Desktop/Mothur_Notebook/mothur_notebook/MiSeq_SOP/\n",
      "\n",
      "mothur > pre.cluster(fasta=stability.trim.contigs.good.unique.good.filter.unique.fasta, count=stability.trim.contigs.good.unique.good.filter.count_table, diffs=2)\n",
      "\n",
      "Using 1 processors.\n",
      "\n",
      "Processing group F3D0:\n",
      "1523\t564\t959\n",
      "Total number of sequences before pre.cluster was 1523.\n",
      "pre.cluster removed 959 sequences.\n",
      "\n",
      "It took 0 secs to cluster 1523 sequences.\n",
      "\n",
      "Processing group F3D1:\n",
      "1195\t475\t720\n",
      "Total number of sequences before pre.cluster was 1195.\n",
      "pre.cluster removed 720 sequences.\n",
      "\n",
      "It took 0 secs to cluster 1195 sequences.\n",
      "\n",
      "Processing group F3D141:\n",
      "1115\t446\t669\n",
      "Total number of sequences before pre.cluster was 1115.\n",
      "pre.cluster removed 669 sequences.\n",
      "\n",
      "It took 0 secs to cluster 1115 sequences.\n",
      "\n",
      "Processing group F3D142:\n",
      "723\t322\t401\n",
      "Total number of sequences before pre.cluster was 723.\n",
      "pre.cluster removed 401 sequences.\n",
      "\n",
      "It took 0 secs to cluster 723 sequences.\n",
      "\n",
      "Processing group F3D143:\n",
      "734\t342\t392\n",
      "Total number of sequences before pre.cluster was 734.\n",
      "pre.cluster removed 392 sequences.\n",
      "\n",
      "It took 0 secs to cluster 734 sequences.\n",
      "\n",
      "Processing group F3D144:\n",
      "951\t419\t532\n",
      "Total number of sequences before pre.cluster was 951.\n",
      "pre.cluster removed 532 sequences.\n",
      "\n",
      "It took 0 secs to cluster 951 sequences.\n",
      "\n",
      "Processing group F3D145:\n",
      "1350\t514\t836\n",
      "Total number of sequences before pre.cluster was 1350.\n",
      "pre.cluster removed 836 sequences.\n",
      "\n",
      "It took 1 secs to cluster 1350 sequences.\n",
      "\n",
      "Processing group F3D146:\n",
      "1125\t519\t606\n",
      "Total number of sequences before pre.cluster was 1125.\n",
      "pre.cluster removed 606 sequences.\n",
      "\n",
      "It took 0 secs to cluster 1125 sequences.\n",
      "\n",
      "Processing group F3D147:\n",
      "2840\t910\t1930\n",
      "Total number of sequences before pre.cluster was 2840.\n",
      "pre.cluster removed 1930 sequences.\n",
      "\n",
      "It took 0 secs to cluster 2840 sequences.\n",
      "\n",
      "Processing group F3D148:\n",
      "2154\t723\t1431\n",
      "Total number of sequences before pre.cluster was 2154.\n",
      "pre.cluster removed 1431 sequences.\n",
      "\n",
      "It took 0 secs to cluster 2154 sequences.\n",
      "\n",
      "Processing group F3D149:\n",
      "2266\t821\t1445\n",
      "Total number of sequences before pre.cluster was 2266.\n",
      "pre.cluster removed 1445 sequences.\n",
      "\n",
      "It took 0 secs to cluster 2266 sequences.\n",
      "\n",
      "Processing group F3D150:\n",
      "1245\t529\t716\n",
      "Total number of sequences before pre.cluster was 1245.\n",
      "pre.cluster removed 716 sequences.\n",
      "\n",
      "It took 0 secs to cluster 1245 sequences.\n",
      "\n",
      "Processing group F3D2:\n",
      "2747\t837\t1910\n",
      "Total number of sequences before pre.cluster was 2747.\n",
      "pre.cluster removed 1910 sequences.\n",
      "\n",
      "It took 0 secs to cluster 2747 sequences.\n",
      "\n",
      "Processing group F3D3:\n",
      "1078\t403\t675\n",
      "Total number of sequences before pre.cluster was 1078.\n",
      "pre.cluster removed 675 sequences.\n",
      "\n",
      "It took 0 secs to cluster 1078 sequences.\n",
      "\n",
      "Processing group F3D5:\n",
      "907\t404\t503\n",
      "Total number of sequences before pre.cluster was 907.\n",
      "pre.cluster removed 503 sequences.\n",
      "\n",
      "It took 0 secs to cluster 907 sequences.\n",
      "\n",
      "Processing group F3D6:\n",
      "1377\t495\t882\n",
      "Total number of sequences before pre.cluster was 1377.\n",
      "pre.cluster removed 882 sequences.\n",
      "\n",
      "It took 0 secs to cluster 1377 sequences.\n",
      "\n",
      "Processing group F3D7:\n",
      "870\t329\t541\n",
      "Total number of sequences before pre.cluster was 870.\n",
      "pre.cluster removed 541 sequences.\n",
      "\n",
      "It took 1 secs to cluster 870 sequences.\n",
      "\n",
      "Processing group F3D8:\n",
      "1004\t419\t585\n",
      "Total number of sequences before pre.cluster was 1004.\n",
      "pre.cluster removed 585 sequences.\n",
      "\n",
      "It took 0 secs to cluster 1004 sequences.\n",
      "\n",
      "Processing group F3D9:\n",
      "1295\t521\t774\n",
      "Total number of sequences before pre.cluster was 1295.\n",
      "pre.cluster removed 774 sequences.\n",
      "\n",
      "It took 0 secs to cluster 1295 sequences.\n",
      "\n",
      "Processing group Mock:\n",
      "531\t121\t410\n",
      "Total number of sequences before pre.cluster was 531.\n",
      "pre.cluster removed 410 sequences.\n",
      "\n",
      "It took 0 secs to cluster 531 sequences.\n",
      "It took 2 secs to run pre.cluster.\n",
      "\n",
      "Output File Names:\n",
      "/home/qiime/Desktop/Mothur_Notebook/mothur_notebook/MiSeq_SOP/stability.trim.contigs.good.unique.good.filter.unique.precluster.fasta\n",
      "/home/qiime/Desktop/Mothur_Notebook/mothur_notebook/MiSeq_SOP/stability.trim.contigs.good.unique.good.filter.unique.precluster.count_table\n",
      "/home/qiime/Desktop/Mothur_Notebook/mothur_notebook/MiSeq_SOP/stability.trim.contigs.good.unique.good.filter.unique.precluster.F3D0.map\n",
      "/home/qiime/Desktop/Mothur_Notebook/mothur_notebook/MiSeq_SOP/stability.trim.contigs.good.unique.good.filter.unique.precluster.F3D1.map\n",
      "/home/qiime/Desktop/Mothur_Notebook/mothur_notebook/MiSeq_SOP/stability.trim.contigs.good.unique.good.filter.unique.precluster.F3D141.map\n",
      "/home/qiime/Desktop/Mothur_Notebook/mothur_notebook/MiSeq_SOP/stability.trim.contigs.good.unique.good.filter.unique.precluster.F3D142.map\n",
      "/home/qiime/Desktop/Mothur_Notebook/mothur_notebook/MiSeq_SOP/stability.trim.contigs.good.unique.good.filter.unique.precluster.F3D143.map\n",
      "/home/qiime/Desktop/Mothur_Notebook/mothur_notebook/MiSeq_SOP/stability.trim.contigs.good.unique.good.filter.unique.precluster.F3D144.map\n",
      "/home/qiime/Desktop/Mothur_Notebook/mothur_notebook/MiSeq_SOP/stability.trim.contigs.good.unique.good.filter.unique.precluster.F3D145.map\n",
      "/home/qiime/Desktop/Mothur_Notebook/mothur_notebook/MiSeq_SOP/stability.trim.contigs.good.unique.good.filter.unique.precluster.F3D146.map\n",
      "/home/qiime/Desktop/Mothur_Notebook/mothur_notebook/MiSeq_SOP/stability.trim.contigs.good.unique.good.filter.unique.precluster.F3D147.map\n",
      "/home/qiime/Desktop/Mothur_Notebook/mothur_notebook/MiSeq_SOP/stability.trim.contigs.good.unique.good.filter.unique.precluster.F3D148.map\n",
      "/home/qiime/Desktop/Mothur_Notebook/mothur_notebook/MiSeq_SOP/stability.trim.contigs.good.unique.good.filter.unique.precluster.F3D149.map\n",
      "/home/qiime/Desktop/Mothur_Notebook/mothur_notebook/MiSeq_SOP/stability.trim.contigs.good.unique.good.filter.unique.precluster.F3D150.map\n",
      "/home/qiime/Desktop/Mothur_Notebook/mothur_notebook/MiSeq_SOP/stability.trim.contigs.good.unique.good.filter.unique.precluster.F3D2.map\n",
      "/home/qiime/Desktop/Mothur_Notebook/mothur_notebook/MiSeq_SOP/stability.trim.contigs.good.unique.good.filter.unique.precluster.F3D3.map\n",
      "/home/qiime/Desktop/Mothur_Notebook/mothur_notebook/MiSeq_SOP/stability.trim.contigs.good.unique.good.filter.unique.precluster.F3D5.map\n",
      "/home/qiime/Desktop/Mothur_Notebook/mothur_notebook/MiSeq_SOP/stability.trim.contigs.good.unique.good.filter.unique.precluster.F3D6.map\n",
      "/home/qiime/Desktop/Mothur_Notebook/mothur_notebook/MiSeq_SOP/stability.trim.contigs.good.unique.good.filter.unique.precluster.F3D7.map\n",
      "/home/qiime/Desktop/Mothur_Notebook/mothur_notebook/MiSeq_SOP/stability.trim.contigs.good.unique.good.filter.unique.precluster.F3D8.map\n",
      "/home/qiime/Desktop/Mothur_Notebook/mothur_notebook/MiSeq_SOP/stability.trim.contigs.good.unique.good.filter.unique.precluster.F3D9.map\n",
      "/home/qiime/Desktop/Mothur_Notebook/mothur_notebook/MiSeq_SOP/stability.trim.contigs.good.unique.good.filter.unique.precluster.Mock.map\n",
      "\n",
      "\n",
      "mothur > quit()\n"
     ]
    }
   ],
   "source": [
    "%%mothur\n",
    "set.dir(input=./MiSeq_SOP)\n",
    "pre.cluster(fasta=stability.trim.contigs.good.unique.good.filter.unique.fasta, count=stability.trim.contigs.good.unique.good.filter.count_table, diffs=2)"
   ]
  },
  {
   "cell_type": "markdown",
   "metadata": {},
   "source": [
    "## 15.  chimera.uchime(fasta=stability.trim.contigs.good.unique.good.filter.unique.precluster.fasta, count=stability.trim.contigs.good.unique.good.filter.unique.precluster.count_table, dereplicate=t)\n",
    "Removes chimeras from the count files.  Chimeras are still present in the fasa file.\n",
    "### 15.1 Output Files\n",
    "<table>\n",
    "<hr><td>Output File</td><td>Description</td></hr>\n",
    "<tr><td>  stability.trim.contigs.good.unique.good.filter.unique.precluster.uchime.pick.count_table    </td><td>      New count table not including chimeras in counts\n",
    " </td></tr>\n",
    "<tr><td>   stability.trim.contigs.good.unique.good.filter.unique.precluster.uchime.chimeras   </td><td> Log of analysis done to find chimeras      </td></tr>\n",
    "<tr><td> stability.trim.contigs.good.unique.good.filter.unique.precluster.uchime.accnos     </td><td>    List of chimeras   </td></tr>\n",
    "</table>"
   ]
  },
  {
   "cell_type": "code",
   "execution_count": 22,
   "metadata": {
    "collapsed": false
   },
   "outputs": [
    {
     "name": "stdout",
     "output_type": "stream",
     "text": [
      "mothur > set.dir(input=./MiSeq_SOP)\n",
      "Mothur's directories:\n",
      "inputDir=/home/qiime/Desktop/Mothur_Notebook/mothur_notebook/MiSeq_SOP/\n",
      "\n",
      "mothur > chimera.uchime(fasta=stability.trim.contigs.good.unique.good.filter.unique.precluster.fasta, count=stability.trim.contigs.good.unique.good.filter.unique.precluster.count_table, dereplicate=t)\n",
      "\n",
      "Using 1 processors.\n",
      "/home/qiime/mothur/mothur/uchime file does not exist. Checking path...\n",
      "Found uchime in your path, using /home/qiime/mothur//uchime\n",
      "\n",
      "uchime by Robert C. Edgar\n",
      "http://drive5.com/uchime\n",
      "This code is donated to the public domain.\n",
      "\n",
      "Checking sequences from /home/qiime/Desktop/Mothur_Notebook/mothur_notebook/MiSeq_SOP/stability.trim.contigs.good.unique.good.filter.unique.precluster.fasta ...\n",
      "\n",
      "It took 3 secs to check 564 sequences from group F3D0.\n",
      "\n",
      "It took 2 secs to check 475 sequences from group F3D1.\n",
      "\n",
      "It took 2 secs to check 446 sequences from group F3D141.\n",
      "\n",
      "It took 1 secs to check 322 sequences from group F3D142.\n",
      "\n",
      "It took 1 secs to check 342 sequences from group F3D143.\n",
      "\n",
      "It took 1 secs to check 419 sequences from group F3D144.\n",
      "\n",
      "It took 2 secs to check 514 sequences from group F3D145.\n",
      "\n",
      "It took 3 secs to check 519 sequences from group F3D146.\n",
      "\n",
      "It took 6 secs to check 910 sequences from group F3D147.\n",
      "\n",
      "It took 3 secs to check 723 sequences from group F3D148.\n",
      "\n",
      "It took 4 secs to check 821 sequences from group F3D149.\n",
      "\n",
      "It took 2 secs to check 529 sequences from group F3D150.\n",
      "\n",
      "It took 5 secs to check 837 sequences from group F3D2.\n",
      "\n",
      "It took 1 secs to check 403 sequences from group F3D3.\n",
      "\n",
      "It took 2 secs to check 404 sequences from group F3D5.\n",
      "\n",
      "It took 3 secs to check 495 sequences from group F3D6.\n",
      "\n",
      "It took 1 secs to check 329 sequences from group F3D7.\n",
      "\n",
      "It took 1 secs to check 419 sequences from group F3D8.\n",
      "\n",
      "It took 3 secs to check 521 sequences from group F3D9.\n",
      "\n",
      "It took 0 secs to check 121 sequences from group Mock.\n",
      "\n",
      "Output File Names:\n",
      "/home/qiime/Desktop/Mothur_Notebook/mothur_notebook/MiSeq_SOP/stability.trim.contigs.good.unique.good.filter.unique.precluster.denovo.uchime.pick.count_table\n",
      "/home/qiime/Desktop/Mothur_Notebook/mothur_notebook/MiSeq_SOP/stability.trim.contigs.good.unique.good.filter.unique.precluster.denovo.uchime.chimeras\n",
      "/home/qiime/Desktop/Mothur_Notebook/mothur_notebook/MiSeq_SOP/stability.trim.contigs.good.unique.good.filter.unique.precluster.denovo.uchime.accnos\n",
      "\n",
      "\n",
      "mothur > quit()\n"
     ]
    }
   ],
   "source": [
    "%%mothur\n",
    "set.dir(input=./MiSeq_SOP)\n",
    "chimera.uchime(fasta=stability.trim.contigs.good.unique.good.filter.unique.precluster.fasta, count=stability.trim.contigs.good.unique.good.filter.unique.precluster.count_table, dereplicate=t)"
   ]
  },
  {
   "cell_type": "markdown",
   "metadata": {},
   "source": [
    "## 16.  remove.seqs(fasta=stability.trim.contigs.good.unique.good.filter.unique.precluster.fasta, accnos=stability.trim.contigs.good.unique.good.filter.unique.precluster.denovo.uchime.accnos)\n",
    "Removes chimeras from the fasta files\n",
    "### 16.1 Output Files\n",
    "<table>\n",
    "<hr><td>Output File</td><td>Description</td></hr>\n",
    "<tr><td>stability.trim.contigs.good.unique.good.filter.unique.precluster.pick.fasta</td><td>  New fasta file without the chimeras </td></tr>\n",
    "</table>\n"
   ]
  },
  {
   "cell_type": "code",
   "execution_count": 24,
   "metadata": {
    "collapsed": false
   },
   "outputs": [
    {
     "name": "stdout",
     "output_type": "stream",
     "text": [
      "mothur > set.dir(input=./MiSeq_SOP)\n",
      "Mothur's directories:\n",
      "inputDir=/home/qiime/Desktop/Mothur_Notebook/mothur_notebook/MiSeq_SOP/\n",
      "\n",
      "mothur > remove.seqs(fasta=stability.trim.contigs.good.unique.good.filter.unique.precluster.fasta, accnos=stability.trim.contigs.good.unique.good.filter.unique.precluster.denovo.uchime.accnos)\n",
      "Removed 3054 sequences from your fasta file.\n",
      "\n",
      "Output File Names:\n",
      "/home/qiime/Desktop/Mothur_Notebook/mothur_notebook/MiSeq_SOP/stability.trim.contigs.good.unique.good.filter.unique.precluster.pick.fasta\n",
      "\n",
      "\n",
      "mothur > quit()\n"
     ]
    }
   ],
   "source": [
    "%%mothur\n",
    "set.dir(input=./MiSeq_SOP)\n",
    "remove.seqs(fasta=stability.trim.contigs.good.unique.good.filter.unique.precluster.fasta, accnos=stability.trim.contigs.good.unique.good.filter.unique.precluster.denovo.uchime.accnos)"
   ]
  },
  {
   "cell_type": "markdown",
   "metadata": {},
   "source": [
    "## 17.  classify.seqs(fasta=stability.trim.contigs.good.unique.good.filter.unique.precluster.pick.fasta, count=stability.trim.contigs.good.unique.good.filter.unique.precluster.denovo.uchime.pick.count_table, reference=trainset9_032012.pds.fasta, taxonomy=trainset9_032012.pds.tax, cutoff=80)\n",
    "Classifies the samples into Taxae using the training data\n",
    "### 17.1 Output Files\n",
    "<table>\n",
    "<hr><td>Output File</td><td>Description</td></hr>\n",
    "<tr><td> stability.trim.contigs.good.unique.good.filter.unique.precluster.pick.pds.wang.taxonomy    </td><td>       Taxonomic classfication for each sequence based on the algorithm implemented in  classify.seqs </td></tr>\n",
    "<tr><td> stability.trim.contigs.good.unique.good.filter.unique.precluster.pick.pds.wang.tax.summary\n",
    "</td><td>   Summary of how many sequences occur at each lineage. The info is split taxonomic level -- according to taxonomic tree hierarchy.</td></tr>\n",
    "</table>"
   ]
  },
  {
   "cell_type": "code",
   "execution_count": null,
   "metadata": {
    "collapsed": true
   },
   "outputs": [],
   "source": [
    "%%mothur\n",
    "set.dir(input=./MiSeq_SOP)\n",
    "classify.seqs(fasta=stability.trim.contigs.good.unique.good.filter.unique.precluster.pick.fasta, count=stability.trim.contigs.good.unique.good.filter.unique.precluster.denovo.uchime.pick.count_table, reference=trainset9_032012.pds.fasta, taxonomy=trainset9_032012.pds.tax, cutoff=80)"
   ]
  },
  {
   "cell_type": "markdown",
   "metadata": {},
   "source": [
    "## 18.  remove.lineage(fasta=stability.trim.contigs.good.unique.good.filter.unique.precluster.pick.fasta, count=stability.trim.contigs.good.unique.good.filter.unique.precluster.denovo.uchime.pick.count_table, taxonomy=stability.trim.contigs.good.unique.good.filter.unique.precluster.pick.pds.wang.taxonomy, taxon=Chloroplast-Mitochondria-unknown-Archaea-Eukaryota)\n",
    "Removes non-bacterial sequences\n",
    "### 18.1 Output Files\n",
    "<table>\n",
    "<hr><td>Output File</td><td>Description</td></hr>\n",
    "<tr><td>  stability.trim.contigs.good.unique.good.filter.unique.precluster.pick.pds.wang.pick.taxonomy</td><td> The new taxonomy without the undesirable taxe. Number in the taxonomy indicate the posterior \n",
    "probability according to the Wang method   </td></tr>\n",
    "<tr><td>   stability.trim.contigs.good.unique.good.filter.unique.precluster.pick.pick.fasta   </td><td>  New fasta alignment file without the undesirable taxa     </td></tr>\n",
    "<tr><td>  stability.trim.contigs.good.unique.good.filter.unique.precluster.denovo.uchime.pick.pick.count_table    </td><td>   New counts table without the undesirable taxa    </td></tr>\n",
    "</table>\n"
   ]
  },
  {
   "cell_type": "code",
   "execution_count": null,
   "metadata": {
    "collapsed": true
   },
   "outputs": [],
   "source": [
    "%%mothur\n",
    "set.dir(input=./MiSeq_SOP)\n",
    "remove.lineage(fasta=stability.trim.contigs.good.unique.good.filter.unique.precluster.pick.fasta, count=stability.trim.contigs.good.unique.good.filter.unique.precluster.denovo.uchime.pick.count_table, taxonomy=stability.trim.contigs.good.unique.good.filter.unique.precluster.pick.pds.wang.taxonomy, taxon=Chloroplast-Mitochondria-unknown-Archaea-Eukaryota)"
   ]
  },
  {
   "cell_type": "markdown",
   "metadata": {},
   "source": [
    "## 19.  pre.clu\n",
    "Removes sequences\n",
    "### 19.1 Output Files\n",
    "<table>\n",
    "<hr><td>Output File</td><td>Description</td></hr>\n",
    "<tr><td>      </td><td>       </td></tr>\n",
    "<tr><td>      </td><td>       </td></tr>\n",
    "<tr><td>      </td><td>       </td></tr>\n",
    "<tr><td>      </td><td>       </td></tr>\n",
    "<tr><td>      </td><td>       </td></tr>\n",
    "</table>"
   ]
  },
  {
   "cell_type": "code",
   "execution_count": null,
   "metadata": {
    "collapsed": true
   },
   "outputs": [],
   "source": [
    "%%mothur\n",
    "set.dir(input=./MiSeq_SOP)"
   ]
  },
  {
   "cell_type": "markdown",
   "metadata": {},
   "source": [
    "## 20.  pre.clu\n",
    "Removes sequences\n",
    "### 20.1 Output Files\n",
    "<table>\n",
    "<hr><td>Output File</td><td>Description</td></hr>\n",
    "<tr><td>      </td><td>       </td></tr>\n",
    "<tr><td>      </td><td>       </td></tr>\n",
    "<tr><td>      </td><td>       </td></tr>\n",
    "<tr><td>      </td><td>       </td></tr>\n",
    "<tr><td>      </td><td>       </td></tr>\n",
    "</table>"
   ]
  },
  {
   "cell_type": "code",
   "execution_count": null,
   "metadata": {
    "collapsed": true
   },
   "outputs": [],
   "source": [
    "%%mothur\n",
    "set.dir(input=./MiSeq_SOP)"
   ]
  },
  {
   "cell_type": "markdown",
   "metadata": {},
   "source": [
    "## 21.  pre.clu\n",
    "Removes sequences\n",
    "### 21.1 Output Files\n",
    "<table>\n",
    "<hr><td>Output File</td><td>Description</td></hr>\n",
    "<tr><td>      </td><td>       </td></tr>\n",
    "<tr><td>      </td><td>       </td></tr>\n",
    "<tr><td>      </td><td>       </td></tr>\n",
    "<tr><td>      </td><td>       </td></tr>\n",
    "<tr><td>      </td><td>       </td></tr>\n",
    "</table>"
   ]
  },
  {
   "cell_type": "code",
   "execution_count": null,
   "metadata": {
    "collapsed": true
   },
   "outputs": [],
   "source": [
    "%%mothur\n",
    "set.dir(input=./MiSeq_SOP)"
   ]
  },
  {
   "cell_type": "markdown",
   "metadata": {},
   "source": [
    "## 22.  pre.clu\n",
    "Removes sequences\n",
    "### 22.1 Output Files\n",
    "<table>\n",
    "<hr><td>Output File</td><td>Description</td></hr>\n",
    "<tr><td>      </td><td>       </td></tr>\n",
    "<tr><td>      </td><td>       </td></tr>\n",
    "<tr><td>      </td><td>       </td></tr>\n",
    "<tr><td>      </td><td>       </td></tr>\n",
    "<tr><td>      </td><td>       </td></tr>\n",
    "</table>"
   ]
  },
  {
   "cell_type": "code",
   "execution_count": null,
   "metadata": {
    "collapsed": true
   },
   "outputs": [],
   "source": [
    "%%mothur\n",
    "set.dir(input=./MiSeq_SOP)"
   ]
  },
  {
   "cell_type": "markdown",
   "metadata": {},
   "source": [
    "## 23.  pre.clu\n",
    "Removes sequences\n",
    "### 23.1 Output Files\n",
    "<table>\n",
    "<hr><td>Output File</td><td>Description</td></hr>\n",
    "<tr><td>      </td><td>       </td></tr>\n",
    "<tr><td>      </td><td>       </td></tr>\n",
    "<tr><td>      </td><td>       </td></tr>\n",
    "<tr><td>      </td><td>       </td></tr>\n",
    "<tr><td>      </td><td>       </td></tr>\n",
    "</table>"
   ]
  },
  {
   "cell_type": "code",
   "execution_count": null,
   "metadata": {
    "collapsed": true
   },
   "outputs": [],
   "source": [
    "%%mothur\n",
    "set.dir(input=./MiSeq_SOP)"
   ]
  },
  {
   "cell_type": "markdown",
   "metadata": {},
   "source": [
    "## 24.  pre.clu\n",
    "Removes sequences\n",
    "### 24.1 Output Files\n",
    "<table>\n",
    "<hr><td>Output File</td><td>Description</td></hr>\n",
    "<tr><td>      </td><td>       </td></tr>\n",
    "<tr><td>      </td><td>       </td></tr>\n",
    "<tr><td>      </td><td>       </td></tr>\n",
    "<tr><td>      </td><td>       </td></tr>\n",
    "<tr><td>      </td><td>       </td></tr>\n",
    "</table>"
   ]
  },
  {
   "cell_type": "code",
   "execution_count": null,
   "metadata": {
    "collapsed": true
   },
   "outputs": [],
   "source": [
    "%%mothur\n",
    "set.dir(input=./MiSeq_SOP)"
   ]
  },
  {
   "cell_type": "markdown",
   "metadata": {},
   "source": [
    "## 25.  pre.clu\n",
    "Removes sequences\n",
    "### 25.1 Output Files\n",
    "<table>\n",
    "<hr><td>Output File</td><td>Description</td></hr>\n",
    "<tr><td>      </td><td>       </td></tr>\n",
    "<tr><td>      </td><td>       </td></tr>\n",
    "<tr><td>      </td><td>       </td></tr>\n",
    "<tr><td>      </td><td>       </td></tr>\n",
    "<tr><td>      </td><td>       </td></tr>\n",
    "</table>"
   ]
  },
  {
   "cell_type": "code",
   "execution_count": null,
   "metadata": {
    "collapsed": true
   },
   "outputs": [],
   "source": [
    "%%mothur\n",
    "set.dir(input=./MiSeq_SOP)"
   ]
  },
  {
   "cell_type": "markdown",
   "metadata": {},
   "source": [
    "## 26.  pre.clu\n",
    "Removes sequences\n",
    "### 26.1 Output Files\n",
    "<table>\n",
    "<hr><td>Output File</td><td>Description</td></hr>\n",
    "<tr><td>      </td><td>       </td></tr>\n",
    "<tr><td>      </td><td>       </td></tr>\n",
    "<tr><td>      </td><td>       </td></tr>\n",
    "<tr><td>      </td><td>       </td></tr>\n",
    "<tr><td>      </td><td>       </td></tr>\n",
    "</table>"
   ]
  },
  {
   "cell_type": "code",
   "execution_count": null,
   "metadata": {
    "collapsed": true
   },
   "outputs": [],
   "source": [
    "%%mothur\n",
    "set.dir(input=./MiSeq_SOP)"
   ]
  },
  {
   "cell_type": "markdown",
   "metadata": {},
   "source": [
    "## 27.  pre.clu\n",
    "Removes sequences\n",
    "### 27.1 Output Files\n",
    "<table>\n",
    "<hr><td>Output File</td><td>Description</td></hr>\n",
    "<tr><td>      </td><td>       </td></tr>\n",
    "<tr><td>      </td><td>       </td></tr>\n",
    "<tr><td>      </td><td>       </td></tr>\n",
    "<tr><td>      </td><td>       </td></tr>\n",
    "<tr><td>      </td><td>       </td></tr>\n",
    "</table>"
   ]
  },
  {
   "cell_type": "code",
   "execution_count": null,
   "metadata": {
    "collapsed": true
   },
   "outputs": [],
   "source": [
    "%%mothur\n",
    "set.dir(input=./MiSeq_SOP)"
   ]
  },
  {
   "cell_type": "markdown",
   "metadata": {},
   "source": [
    "## 28.  pre.clu\n",
    "Removes sequences\n",
    "### 28.1 Output Files\n",
    "<table>\n",
    "<hr><td>Output File</td><td>Description</td></hr>\n",
    "<tr><td>      </td><td>       </td></tr>\n",
    "<tr><td>      </td><td>       </td></tr>\n",
    "<tr><td>      </td><td>       </td></tr>\n",
    "<tr><td>      </td><td>       </td></tr>\n",
    "<tr><td>      </td><td>       </td></tr>\n",
    "</table>"
   ]
  },
  {
   "cell_type": "code",
   "execution_count": null,
   "metadata": {
    "collapsed": true
   },
   "outputs": [],
   "source": [
    "%%mothur\n",
    "set.dir(input=./MiSeq_SOP)"
   ]
  }
 ],
 "metadata": {
  "kernelspec": {
   "display_name": "Python [Root]",
   "language": "python",
   "name": "Python [Root]"
  },
  "language_info": {
   "codemirror_mode": {
    "name": "ipython",
    "version": 2
   },
   "file_extension": ".py",
   "mimetype": "text/x-python",
   "name": "python",
   "nbconvert_exporter": "python",
   "pygments_lexer": "ipython2",
   "version": "2.7.11"
  }
 },
 "nbformat": 4,
 "nbformat_minor": 0
}
