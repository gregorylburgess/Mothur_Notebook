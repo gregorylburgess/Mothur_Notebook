{
 "cells": [
  {
   "cell_type": "markdown",
   "metadata": {},
   "source": [
    "# Notes:\n",
    "* Transitive alignments are not accurate, find cases where transitive alignments fail.\n"
   ]
  },
  {
   "cell_type": "markdown",
   "metadata": {},
   "source": [
    "This notebook runs through the Mothur MiSeq SOP tutorial found here: http://www.mothur.org/wiki/MiSeq_SOP .\n",
    "First, we should download all the files used in the tutorial.  The below cell does just that.  In total, the files are about 65MB and may take a few minutes to download/unizp.\n",
    "\n",
    "See http://www.mothur.org/wiki/MiSeq_SOP#Logistics for more details."
   ]
  },
  {
   "cell_type": "code",
   "execution_count": 24,
   "metadata": {
    "collapsed": false
   },
   "outputs": [
    {
     "name": "stdout",
     "output_type": "stream",
     "text": [
      "Current working directory is: /home/qiime/Desktop/mothur_notebook\n"
     ]
    }
   ],
   "source": [
    "#####################################################\n",
    "##### Downloads and unzips all tutorial files #######\n",
    "#####################################################\n",
    "\n",
    "import urllib2\n",
    "import zipfile\n",
    "import os\n",
    "\n",
    "# make a directory for our tutorial, and jump into it\n",
    "root=\"mothur_notebook\"\n",
    "if os.getcwd().split('/')[-1] != root:\n",
    "    if not os.path.isdir(root):\n",
    "        os.mkdir(root)\n",
    "    os.chdir(root)\n",
    "print \"Current working directory is: \" + os.getcwd()\n",
    "\n",
    "# Zips to grab\n",
    "zips = ['http://www.mothur.org/w/images/5/59/Trainset9_032012.pds.zip',\n",
    "        'http://www.mothur.org/w/images/9/98/Silva.bacteria.zip',\n",
    "        'http://www.mothur.org/w/images/d/d6/MiSeqSOPData.zip']\n",
    "\n",
    "# Zip Directory names:\n",
    "seq='MiSeq_SOP'\n",
    "silva='Silva.bacteria/silva.bacteria'\n",
    "train='Trainset9_032012.pds'\n",
    "\n",
    "# Grab and unzip the zip files\n",
    "for url in zips:\n",
    "    target = url.split('/')[-1]\n",
    "    if not os.path.isfile(target):\n",
    "        resource = urllib2.urlopen(url)\n",
    "        print \"Downloading \" + target + \"...\\n\"\n",
    "        open(target,'wb').write(resource.read())\n",
    "        \n",
    "        print \"Extracting \" + target + \"...\\n\"\n",
    "        zipfile.ZipFile(target).extractall()"
   ]
  },
  {
   "cell_type": "code",
   "execution_count": 8,
   "metadata": {
    "collapsed": false,
    "scrolled": true
   },
   "outputs": [
    {
     "name": "stdout",
     "output_type": "stream",
     "text": [
      "Installed mothurmagic.py. To use it, type:\n",
      "  %load_ext mothurmagic\n",
      "The mothurmagic extension is already loaded. To reload it, use:\n",
      "  %reload_ext mothurmagic\n"
     ]
    }
   ],
   "source": [
    "# Loads the mothurmagic extension (see https://github.com/SchlossLab/ipython-mothurmagic)\n",
    "%install_ext https://raw.githubusercontent.com/SchlossLab/ipython-mothurmagic/master/mothurmagic.py\n",
    "%load_ext mothurmagic"
   ]
  },
  {
   "cell_type": "markdown",
   "metadata": {},
   "source": [
    "# Commands\n",
    "\n",
    "## 1.  make.contigs(file=stability.files, processors=8)\n",
    "Joins left and right reads in a a fasta file.\n",
    "### 1.1 Output Files:\n",
    "<table>\n",
    "<hr><td>Output File</td><td>Description</td></hr>\n",
    "<tr><td>stability.contigs.groups     </td><td>  Which sample each sequence belongs to</td></tr>\n",
    "<tr><td>stability.scrap.contigs.fasta</td><td> \tContigs thrown out because they don't pass some criterion</td></tr>\n",
    "<tr><td>stability.scrap.contigs.qual </td><td>\tQuality of contigs thrown out because they don't pass some criterion</td></tr>\n",
    "<tr><td>stability.trim.contigs.fasta </td><td>\tAssembled for and rev sequences</td></tr>\n",
    "<tr><td>stability.contigs.qual       </td><td>  Quality assembled for and rev sequences</td></tr>\n",
    "<tr><td>stability.contigs.report     </td><td>  Assembly report for each sequence</td></tr>\n",
    "</table>"
   ]
  },
  {
   "cell_type": "code",
   "execution_count": 30,
   "metadata": {
    "collapsed": false
   },
   "outputs": [
    {
     "name": "stdout",
     "output_type": "stream",
     "text": [
      "mothur > # Joins left and right reads\n",
      "[ERROR]: You are missing (\n",
      "Invalid.\n",
      "\n",
      "mothur > set.dir(input=./MiSeq_SOP)\n",
      "Mothur's directories:\n",
      "inputDir=/home/qiime/Desktop/mothur_notebook/MiSeq_SOP/\n",
      "\n",
      "mothur > make.contigs(file=stability.files, processors=8)\n",
      "\n",
      "Using 8 processors.\n",
      "\n",
      ">>>>>\tProcessing file pair /home/qiime/Desktop/mothur_notebook/MiSeq_SOP/F3D0_S188_L001_R1_001.fastq - /home/qiime/Desktop/mothur_notebook/MiSeq_SOP/F3D0_S188_L001_R2_001.fastq (files 1 of 20)\t<<<<<\n",
      "Making contigs...\n",
      "Done.\n",
      "\n",
      "It took 2 secs to assemble 7793 reads.\n",
      "\n",
      "\n",
      ">>>>>\tProcessing file pair /home/qiime/Desktop/mothur_notebook/MiSeq_SOP/F3D141_S207_L001_R1_001.fastq - /home/qiime/Desktop/mothur_notebook/MiSeq_SOP/F3D141_S207_L001_R2_001.fastq (files 2 of 20)\t<<<<<\n",
      "Making contigs...\n",
      "Done.\n",
      "\n",
      "It took 2 secs to assemble 5958 reads.\n",
      "\n",
      "\n",
      ">>>>>\tProcessing file pair /home/qiime/Desktop/mothur_notebook/MiSeq_SOP/F3D142_S208_L001_R1_001.fastq - /home/qiime/Desktop/mothur_notebook/MiSeq_SOP/F3D142_S208_L001_R2_001.fastq (files 3 of 20)\t<<<<<\n",
      "Making contigs...\n",
      "Done.\n",
      "\n",
      "It took 1 secs to assemble 3183 reads.\n",
      "\n",
      "\n",
      ">>>>>\tProcessing file pair /home/qiime/Desktop/mothur_notebook/MiSeq_SOP/F3D143_S209_L001_R1_001.fastq - /home/qiime/Desktop/mothur_notebook/MiSeq_SOP/F3D143_S209_L001_R2_001.fastq (files 4 of 20)\t<<<<<\n",
      "Making contigs...\n",
      "Done.\n",
      "\n",
      "It took 1 secs to assemble 3178 reads.\n",
      "\n",
      "\n",
      ">>>>>\tProcessing file pair /home/qiime/Desktop/mothur_notebook/MiSeq_SOP/F3D144_S210_L001_R1_001.fastq - /home/qiime/Desktop/mothur_notebook/MiSeq_SOP/F3D144_S210_L001_R2_001.fastq (files 5 of 20)\t<<<<<\n",
      "Making contigs...\n",
      "Done.\n",
      "\n",
      "It took 1 secs to assemble 4827 reads.\n",
      "\n",
      "\n",
      ">>>>>\tProcessing file pair /home/qiime/Desktop/mothur_notebook/MiSeq_SOP/F3D145_S211_L001_R1_001.fastq - /home/qiime/Desktop/mothur_notebook/MiSeq_SOP/F3D145_S211_L001_R2_001.fastq (files 6 of 20)\t<<<<<\n",
      "Making contigs...\n",
      "Done.\n",
      "\n",
      "It took 2 secs to assemble 7377 reads.\n",
      "\n",
      "\n",
      ">>>>>\tProcessing file pair /home/qiime/Desktop/mothur_notebook/MiSeq_SOP/F3D146_S212_L001_R1_001.fastq - /home/qiime/Desktop/mothur_notebook/MiSeq_SOP/F3D146_S212_L001_R2_001.fastq (files 7 of 20)\t<<<<<\n",
      "Making contigs...\n",
      "Done.\n",
      "\n",
      "It took 1 secs to assemble 5021 reads.\n",
      "\n",
      "\n",
      ">>>>>\tProcessing file pair /home/qiime/Desktop/mothur_notebook/MiSeq_SOP/F3D147_S213_L001_R1_001.fastq - /home/qiime/Desktop/mothur_notebook/MiSeq_SOP/F3D147_S213_L001_R2_001.fastq (files 8 of 20)\t<<<<<\n",
      "Making contigs...\n",
      "Done.\n",
      "\n",
      "It took 5 secs to assemble 17070 reads.\n",
      "\n",
      "\n",
      ">>>>>\tProcessing file pair /home/qiime/Desktop/mothur_notebook/MiSeq_SOP/F3D148_S214_L001_R1_001.fastq - /home/qiime/Desktop/mothur_notebook/MiSeq_SOP/F3D148_S214_L001_R2_001.fastq (files 9 of 20)\t<<<<<\n",
      "Making contigs...\n",
      "Done.\n",
      "\n",
      "It took 3 secs to assemble 12405 reads.\n",
      "\n",
      "\n",
      ">>>>>\tProcessing file pair /home/qiime/Desktop/mothur_notebook/MiSeq_SOP/F3D149_S215_L001_R1_001.fastq - /home/qiime/Desktop/mothur_notebook/MiSeq_SOP/F3D149_S215_L001_R2_001.fastq (files 10 of 20)\t<<<<<\n",
      "Making contigs...\n",
      "Done.\n",
      "\n",
      "It took 3 secs to assemble 13083 reads.\n",
      "\n",
      "\n",
      ">>>>>\tProcessing file pair /home/qiime/Desktop/mothur_notebook/MiSeq_SOP/F3D150_S216_L001_R1_001.fastq - /home/qiime/Desktop/mothur_notebook/MiSeq_SOP/F3D150_S216_L001_R2_001.fastq (files 11 of 20)\t<<<<<\n",
      "Making contigs...\n",
      "Done.\n",
      "\n",
      "It took 2 secs to assemble 5509 reads.\n",
      "\n",
      "\n",
      ">>>>>\tProcessing file pair /home/qiime/Desktop/mothur_notebook/MiSeq_SOP/F3D1_S189_L001_R1_001.fastq - /home/qiime/Desktop/mothur_notebook/MiSeq_SOP/F3D1_S189_L001_R2_001.fastq (files 12 of 20)\t<<<<<\n",
      "Making contigs...\n",
      "Done.\n",
      "\n",
      "It took 1 secs to assemble 5869 reads.\n",
      "\n",
      "\n",
      ">>>>>\tProcessing file pair /home/qiime/Desktop/mothur_notebook/MiSeq_SOP/F3D2_S190_L001_R1_001.fastq - /home/qiime/Desktop/mothur_notebook/MiSeq_SOP/F3D2_S190_L001_R2_001.fastq (files 13 of 20)\t<<<<<\n",
      "Making contigs...\n",
      "Done.\n",
      "\n",
      "It took 6 secs to assemble 19620 reads.\n",
      "\n",
      "\n",
      ">>>>>\tProcessing file pair /home/qiime/Desktop/mothur_notebook/MiSeq_SOP/F3D3_S191_L001_R1_001.fastq - /home/qiime/Desktop/mothur_notebook/MiSeq_SOP/F3D3_S191_L001_R2_001.fastq (files 14 of 20)\t<<<<<\n",
      "Making contigs...\n",
      "Done.\n",
      "\n",
      "It took 1 secs to assemble 6758 reads.\n",
      "\n",
      "\n",
      ">>>>>\tProcessing file pair /home/qiime/Desktop/mothur_notebook/MiSeq_SOP/F3D5_S193_L001_R1_001.fastq - /home/qiime/Desktop/mothur_notebook/MiSeq_SOP/F3D5_S193_L001_R2_001.fastq (files 15 of 20)\t<<<<<\n",
      "Making contigs...\n",
      "Done.\n",
      "\n",
      "It took 2 secs to assemble 4448 reads.\n",
      "\n",
      "\n",
      ">>>>>\tProcessing file pair /home/qiime/Desktop/mothur_notebook/MiSeq_SOP/F3D6_S194_L001_R1_001.fastq - /home/qiime/Desktop/mothur_notebook/MiSeq_SOP/F3D6_S194_L001_R2_001.fastq (files 16 of 20)\t<<<<<\n",
      "Making contigs...\n",
      "Done.\n",
      "\n",
      "It took 2 secs to assemble 7989 reads.\n",
      "\n",
      "\n",
      ">>>>>\tProcessing file pair /home/qiime/Desktop/mothur_notebook/MiSeq_SOP/F3D7_S195_L001_R1_001.fastq - /home/qiime/Desktop/mothur_notebook/MiSeq_SOP/F3D7_S195_L001_R2_001.fastq (files 17 of 20)\t<<<<<\n",
      "Making contigs...\n",
      "Done.\n",
      "\n",
      "It took 1 secs to assemble 5129 reads.\n",
      "\n",
      "\n",
      ">>>>>\tProcessing file pair /home/qiime/Desktop/mothur_notebook/MiSeq_SOP/F3D8_S196_L001_R1_001.fastq - /home/qiime/Desktop/mothur_notebook/MiSeq_SOP/F3D8_S196_L001_R2_001.fastq (files 18 of 20)\t<<<<<\n",
      "Making contigs...\n",
      "Done.\n",
      "\n",
      "It took 2 secs to assemble 5294 reads.\n",
      "\n",
      "\n",
      ">>>>>\tProcessing file pair /home/qiime/Desktop/mothur_notebook/MiSeq_SOP/F3D9_S197_L001_R1_001.fastq - /home/qiime/Desktop/mothur_notebook/MiSeq_SOP/F3D9_S197_L001_R2_001.fastq (files 19 of 20)\t<<<<<\n",
      "Making contigs...\n",
      "Done.\n",
      "\n",
      "It took 2 secs to assemble 7070 reads.\n",
      "\n",
      "\n",
      ">>>>>\tProcessing file pair /home/qiime/Desktop/mothur_notebook/MiSeq_SOP/Mock_S280_L001_R1_001.fastq - /home/qiime/Desktop/mothur_notebook/MiSeq_SOP/Mock_S280_L001_R2_001.fastq (files 20 of 20)\t<<<<<\n",
      "Making contigs...\n",
      "Done.\n",
      "\n",
      "It took 1 secs to assemble 4779 reads.\n",
      "\n",
      "It took 41 secs to process 152360 sequences.\n",
      "\n",
      "Group count:\n",
      "F3D0\t7793\n",
      "F3D1\t5869\n",
      "F3D141\t5958\n",
      "F3D142\t3183\n",
      "F3D143\t3178\n",
      "F3D144\t4827\n",
      "F3D145\t7377\n",
      "F3D146\t5021\n",
      "F3D147\t17070\n",
      "F3D148\t12405\n",
      "F3D149\t13083\n",
      "F3D150\t5509\n",
      "F3D2\t19620\n",
      "F3D3\t6758\n",
      "F3D5\t4448\n",
      "F3D6\t7989\n",
      "F3D7\t5129\n",
      "F3D8\t5294\n",
      "F3D9\t7070\n",
      "Mock\t4779\n",
      "\n",
      "Total of all groups is 152360\n",
      "\n",
      "Output File Names:\n",
      "/home/qiime/Desktop/mothur_notebook/MiSeq_SOP/stability.trim.contigs.fasta\n",
      "/home/qiime/Desktop/mothur_notebook/MiSeq_SOP/stability.trim.contigs.qual\n",
      "/home/qiime/Desktop/mothur_notebook/MiSeq_SOP/stability.contigs.report\n",
      "/home/qiime/Desktop/mothur_notebook/MiSeq_SOP/stability.scrap.contigs.fasta\n",
      "/home/qiime/Desktop/mothur_notebook/MiSeq_SOP/stability.scrap.contigs.qual\n",
      "/home/qiime/Desktop/mothur_notebook/MiSeq_SOP/stability.contigs.groups\n",
      "\n",
      "[WARNING]: your sequence names contained ':'.  I changed them to '_' to avoid problems in your downstream analysis.\n",
      "\n",
      "mothur > quit()\n",
      "\n",
      "\n",
      "************************************************************\n",
      "************************************************************\n",
      "************************************************************\n",
      "Detected 1 [ERROR] messages, please review.\n",
      "************************************************************\n",
      "************************************************************\n",
      "************************************************************\n",
      "\n",
      "\n",
      "<<<<<<<<<<<<<<<<<<<<<<<<<<<<<<^>>>>>>>>>>>>>>>>>>>>>>>>>>>>>\n",
      "<<<<<<<<<<<<<<<<<<<<<<<<<<<<<<^>>>>>>>>>>>>>>>>>>>>>>>>>>>>>\n",
      "<<<<<<<<<<<<<<<<<<<<<<<<<<<<<<^>>>>>>>>>>>>>>>>>>>>>>>>>>>>>\n",
      "Detected 1 [WARNING] messages, please review.\n",
      "<<<<<<<<<<<<<<<<<<<<<<<<<<<<<<^>>>>>>>>>>>>>>>>>>>>>>>>>>>>>\n",
      "<<<<<<<<<<<<<<<<<<<<<<<<<<<<<<^>>>>>>>>>>>>>>>>>>>>>>>>>>>>>\n",
      "<<<<<<<<<<<<<<<<<<<<<<<<<<<<<<^>>>>>>>>>>>>>>>>>>>>>>>>>>>>>\n"
     ]
    }
   ],
   "source": [
    "%%mothur\n",
    "set.dir(input=./MiSeq_SOP)\n",
    "make.contigs(file=stability.files, processors=8)"
   ]
  },
  {
   "cell_type": "markdown",
   "metadata": {},
   "source": [
    "## 2.  summary.seqs(fasta=stability.trim.contigs.fasta)\n",
    "Summarizes a fasta file.\n",
    "### 2.1 Output Files\n",
    "<table>\n",
    "<hr><td>Output File</td><td>Description</td></hr>\n",
    "<tr><td>stability.trim.contigs.summary\t</td><td>  For each sequence name, keeps track of length, nbases, homopolymers and dereplication count.</td></tr>\n",
    "</table>"
   ]
  },
  {
   "cell_type": "code",
   "execution_count": 32,
   "metadata": {
    "collapsed": false
   },
   "outputs": [
    {
     "name": "stdout",
     "output_type": "stream",
     "text": [
      "mothur > set.dir(input=./MiSeq_SOP)\n",
      "Mothur's directories:\n",
      "inputDir=/home/qiime/Desktop/mothur_notebook/MiSeq_SOP/\n",
      "\n",
      "mothur > summary.seqs(fasta=stability.trim.contigs.fasta)\n",
      "\n",
      "Using 1 processors.\n",
      "\n",
      "Start\tEnd\tNBases\tAmbigs\tPolymer\tNumSeqs\n",
      "Minimum:\t1\t248\t248\t0\t3\t1\n",
      "2.5%-tile:\t1\t252\t252\t0\t3\t3810\n",
      "25%-tile:\t1\t252\t252\t0\t4\t38091\n",
      "Median: \t1\t252\t252\t0\t4\t76181\n",
      "75%-tile:\t1\t253\t253\t0\t5\t114271\n",
      "97.5%-tile:\t1\t253\t253\t6\t6\t148552\n",
      "Maximum:\t1\t502\t502\t249\t243\t152360\n",
      "Mean:\t1\t252.811\t252.811\t0.70063\t4.44854\n",
      "# of Seqs:\t152360\n",
      "\n",
      "Output File Names:\n",
      "/home/qiime/Desktop/mothur_notebook/MiSeq_SOP/stability.trim.contigs.summary\n",
      "\n",
      "It took 2 secs to summarize 152360 sequences.\n",
      "\n",
      "mothur > quit()\n"
     ]
    }
   ],
   "source": [
    "%%mothur\n",
    "set.dir(input=./MiSeq_SOP)\n",
    "summary.seqs(fasta=stability.trim.contigs.fasta)"
   ]
  },
  {
   "cell_type": "markdown",
   "metadata": {},
   "source": [
    "## 3.  screen.seqs(fasta=stability.trim.contigs.fasta, group=stability.contigs.groups, maxambig=0, maxlength=275)\n",
    "Removes sequences that do not match specified parameters.\n",
    "### 3.1 Output Files\n",
    "<table>\n",
    "<hr><td>Output File</td><td>Description</td></hr>\n",
    "<tr><td>stability.trim.contigs.good.fasta</td><td> \tSequences that contain 0 ambig and are shorter than 275</td></tr>\n",
    "<tr><td>stability.trim.contigs.bad.accnos</td><td> \tList of bad sequences and the reason they were discarded, i.e. number of ambigs or len</td></tr>\n",
    "<tr><td>stability.contigs.good.groups\t </td><td> \tFor each sequence, litst the group to which it belongs</td></tr>\n",
    "</table>"
   ]
  },
  {
   "cell_type": "code",
   "execution_count": 33,
   "metadata": {
    "collapsed": false
   },
   "outputs": [
    {
     "name": "stdout",
     "output_type": "stream",
     "text": [
      "mothur > set.dir(input=./MiSeq_SOP)\n",
      "Mothur's directories:\n",
      "inputDir=/home/qiime/Desktop/mothur_notebook/MiSeq_SOP/\n",
      "\n",
      "mothur > screen.seqs(fasta=stability.trim.contigs.fasta, group=stability.contigs.groups, maxambig=0, maxlength=275)\n",
      "\n",
      "Using 1 processors.\n",
      "\n",
      "Output File Names:\n",
      "/home/qiime/Desktop/mothur_notebook/MiSeq_SOP/stability.trim.contigs.good.fasta\n",
      "/home/qiime/Desktop/mothur_notebook/MiSeq_SOP/stability.trim.contigs.bad.accnos\n",
      "/home/qiime/Desktop/mothur_notebook/MiSeq_SOP/stability.contigs.good.groups\n",
      "\n",
      "\n",
      "It took 2 secs to screen 152360 sequences.\n",
      "\n",
      "mothur > quit()\n"
     ]
    }
   ],
   "source": [
    "%%mothur\n",
    "set.dir(input=./MiSeq_SOP)\n",
    "screen.seqs(fasta=stability.trim.contigs.fasta, group=stability.contigs.groups, maxambig=0, maxlength=275)"
   ]
  },
  {
   "cell_type": "markdown",
   "metadata": {},
   "source": [
    "## 4.  unique.seqs(fasta=stability.trim.contigs.good.fasta)\n",
    "Dereplicates identical sequences, keeping track of related sequences.\n",
    "### 4.1 Output Files\n",
    "<table>\n",
    "<hr><td>Output File</td><td>Description</td></hr>\n",
    "<tr><td>stability.trim.contigs.good.names</td><td> \tTab file; for a sequence, list all the sequences that are completely identical</td></tr>\n",
    "<tr><td>stability.trim.contigs.good.unique.fasta</td><td> \tList of unique sequences</td></tr>\n",
    "</table>"
   ]
  },
  {
   "cell_type": "code",
   "execution_count": 35,
   "metadata": {
    "collapsed": false
   },
   "outputs": [
    {
     "name": "stdout",
     "output_type": "stream",
     "text": [
      "mothur > set.dir(input=./MiSeq_SOP)\n",
      "Mothur's directories:\n",
      "inputDir=/home/qiime/Desktop/mothur_notebook/MiSeq_SOP/\n",
      "\n",
      "mothur > unique.seqs(fasta=stability.trim.contigs.good.fasta)\n",
      "128872\t16426\n",
      "\n",
      "Output File Names:\n",
      "/home/qiime/Desktop/mothur_notebook/MiSeq_SOP/stability.trim.contigs.good.names\n",
      "/home/qiime/Desktop/mothur_notebook/MiSeq_SOP/stability.trim.contigs.good.unique.fasta\n",
      "\n",
      "\n",
      "mothur > quit()\n"
     ]
    }
   ],
   "source": [
    "%%mothur\n",
    "set.dir(input=./MiSeq_SOP)\n",
    "unique.seqs(fasta=stability.trim.contigs.good.fasta)"
   ]
  },
  {
   "cell_type": "markdown",
   "metadata": {},
   "source": [
    "## 5.  count.seqs(name=stability.trim.contigs.good.names, group=stability.contigs.good.groups)\n",
    "Creates a table counting the abundance of each sequence in each sample (group).\n",
    "### 5.1 Output Files\n",
    "<table>\n",
    "<hr><td>Output File</td><td>Description</td></hr>\n",
    "<tr><td>stability.trim.contigs.good.count_table</td><td> \tTable where row are unique seqs and cols are sample. Cell represent abundance of seq in samples</td></tr>\n",
    "</table>"
   ]
  },
  {
   "cell_type": "code",
   "execution_count": 37,
   "metadata": {
    "collapsed": false
   },
   "outputs": [
    {
     "name": "stdout",
     "output_type": "stream",
     "text": [
      "mothur > set.dir(input=./MiSeq_SOP)\n",
      "Mothur's directories:\n",
      "inputDir=/home/qiime/Desktop/mothur_notebook/MiSeq_SOP/\n",
      "\n",
      "mothur > count.seqs(name=stability.trim.contigs.good.names, group=stability.contigs.good.groups)\n",
      "\n",
      "Using 1 processors.\n",
      "It took 1 secs to create a table for 128872 sequences.\n",
      "\n",
      "\n",
      "Total number of sequences: 128872\n",
      "\n",
      "Output File Names:\n",
      "/home/qiime/Desktop/mothur_notebook/MiSeq_SOP/stability.trim.contigs.good.count_table\n",
      "\n",
      "\n",
      "mothur > quit()\n"
     ]
    }
   ],
   "source": [
    "%%mothur\n",
    "set.dir(input=./MiSeq_SOP)\n",
    "count.seqs(name=stability.trim.contigs.good.names, group=stability.contigs.good.groups)"
   ]
  },
  {
   "cell_type": "markdown",
   "metadata": {},
   "source": [
    "## 6.  summary.seqs(fasta=stability.trim.contigs.good.unique.fasta, count=stability.trim.contigs.good.count_table)\n",
    "Summarizes a fasta file.  In this case, summarizing the list of unique sequences and updating their abundance.\n",
    "### 6.1 Output Files\n",
    "<table>\n",
    "<hr><td>Output File</td><td>Description</td></hr>\n",
    "<tr><td>stability.trim.contigs.good.unique.summary </td><td> \tSubset of sequences that are unique. Only difference with their description in the previous summary is the numSeqs column, which now contains the total number of sequences included into this sequence</td></tr>\n",
    "</table>"
   ]
  },
  {
   "cell_type": "code",
   "execution_count": 38,
   "metadata": {
    "collapsed": false
   },
   "outputs": [
    {
     "name": "stdout",
     "output_type": "stream",
     "text": [
      "mothur > set.dir(input=./MiSeq_SOP)\n",
      "Mothur's directories:\n",
      "inputDir=/home/qiime/Desktop/mothur_notebook/MiSeq_SOP/\n",
      "\n",
      "mothur > summary.seqs(fasta=stability.trim.contigs.good.unique.fasta, count=stability.trim.contigs.good.count_table)\n",
      "\n",
      "Using 1 processors.\n",
      "\n",
      "Start\tEnd\tNBases\tAmbigs\tPolymer\tNumSeqs\n",
      "Minimum:\t1\t250\t250\t0\t3\t1\n",
      "2.5%-tile:\t1\t252\t252\t0\t3\t3222\n",
      "25%-tile:\t1\t252\t252\t0\t4\t32219\n",
      "Median: \t1\t252\t252\t0\t4\t64437\n",
      "75%-tile:\t1\t253\t253\t0\t5\t96655\n",
      "97.5%-tile:\t1\t253\t253\t0\t6\t125651\n",
      "Maximum:\t1\t270\t270\t0\t12\t128872\n",
      "Mean:\t1\t252.462\t252.462\t0\t4.36693\n",
      "# of unique seqs:\t16426\n",
      "total # of seqs:\t128872\n",
      "\n",
      "Output File Names:\n",
      "/home/qiime/Desktop/mothur_notebook/MiSeq_SOP/stability.trim.contigs.good.unique.summary\n",
      "\n",
      "It took 1 secs to summarize 128872 sequences.\n",
      "\n",
      "mothur > quit()\n"
     ]
    }
   ],
   "source": [
    "%%mothur\n",
    "set.dir(input=./MiSeq_SOP)\n",
    "summary.seqs(fasta=stability.trim.contigs.good.unique.fasta, count=stability.trim.contigs.good.count_table)"
   ]
  },
  {
   "cell_type": "markdown",
   "metadata": {},
   "source": [
    "## 7.  pcr.seqs(fasta=silva.bacteria/silva.bacteria.fasta, start=11894, end=25319, keepdots=F, processors=4)\n",
    "Trims the fasta file (in this case the reference DataBase) to the specified region., i.e, 11894 to 25319\n",
    "### 7.1 Output Files\n",
    "<table>\n",
    "<hr><td>Output File</td><td>Description</td></hr>\n",
    "<tr><td>../silva.bacteria/silva.bacteria.pcr.fasta </td><td> \tThe trimmed fasta file (DB)</td></tr>\n",
    "</table>"
   ]
  },
  {
   "cell_type": "code",
   "execution_count": 60,
   "metadata": {
    "collapsed": false
   },
   "outputs": [
    {
     "name": "stdout",
     "output_type": "stream",
     "text": [
      "mothur > set.dir(input=./MiSeq_SOP)\n",
      "Mothur's directories:\n",
      "inputDir=/home/qiime/Desktop/mothur_notebook/MiSeq_SOP/\n",
      "\n",
      "mothur > pcr.seqs(fasta=silva.bacteria/silva.bacteria.fasta, start=11894, end=25319, keepdots=F, processors=4)\n",
      "\n",
      "Using 4 processors.\n",
      "\n",
      "Output File Names:\n",
      "silva.bacteria/silva.bacteria.pcr.fasta\n",
      "\n",
      "\n",
      "It took 7 secs to screen 14956 sequences.\n",
      "\n",
      "mothur > quit()\n"
     ]
    }
   ],
   "source": [
    "%%mothur\n",
    "set.dir(input=./MiSeq_SOP)\n",
    "pcr.seqs(fasta=silva.bacteria/silva.bacteria.fasta, start=11894, end=25319, keepdots=F, processors=4)"
   ]
  },
  {
   "cell_type": "markdown",
   "metadata": {},
   "source": [
    "## 8. system(mv silva.bacteria/silva.bacteria.pcr.fasta ref/silva.bacteria/silva.v4.fasta)\n",
    "Renames the file 'silva.bacteria/silva.bacteria.pcr.fasta' to 'silva.bacteria/silva.v4.fasta'\n",
    "### 8.1 Output Files\n",
    "<table>\n",
    "<hr><td>Output File</td><td>Description</td></hr>\n",
    "<tr><td>silva.bacteria/silva.v4.fasta </td><td> \tThe renamed file</td></tr>\n",
    "</table>"
   ]
  },
  {
   "cell_type": "code",
   "execution_count": 64,
   "metadata": {
    "collapsed": false
   },
   "outputs": [
    {
     "name": "stdout",
     "output_type": "stream",
     "text": [
      "mothur > system(mv silva.bacteria/silva.bacteria.pcr.fasta silva.bacteria/silva.v4.fasta)\n",
      "\n",
      "\n",
      "mothur > quit()\n"
     ]
    }
   ],
   "source": [
    "%%mothur\n",
    "system(mv silva.bacteria/silva.bacteria.pcr.fasta silva.bacteria/silva.v4.fasta)"
   ]
  },
  {
   "cell_type": "markdown",
   "metadata": {},
   "source": [
    "## 9.  align.seqs(fasta=stability.trim.contigs.good.unique.fasta, reference=silva.bacteria/silva.v4.fasta)\n",
    "Align our unique sequences agains the reference DataBase\n",
    "### 9.1 Output Files\n",
    "<table>\n",
    "<hr><td>Output File</td><td>Description</td></hr>\n",
    "<tr><td>stability.trim.contigs.good.unique.align </td><td> \tThe reads alignment file (not including DB seqs)</td></tr>\n",
    "<tr><td>stability.trim.contigs.good.unique.align.report </td><td> \tContains pairwise alignment information for the sequences and their hits. Ex. alignment length, start in query, start in hit, end in query, etc.</td></tr>\n",
    "</table>"
   ]
  },
  {
   "cell_type": "code",
   "execution_count": 66,
   "metadata": {
    "collapsed": false
   },
   "outputs": [
    {
     "name": "stdout",
     "output_type": "stream",
     "text": [
      "mothur > set.dir(input=./MiSeq_SOP)\n",
      "Mothur's directories:\n",
      "inputDir=/home/qiime/Desktop/mothur_notebook/MiSeq_SOP/\n",
      "\n",
      "mothur > align.seqs(fasta=stability.trim.contigs.good.unique.fasta, reference=silva.bacteria/silva.v4.fasta)\n",
      "\n",
      "Using 1 processors.\n",
      "\n",
      "Reading in the silva.bacteria/silva.v4.fasta template sequences...\tDONE.\n",
      "It took 6 to read  14956 sequences.\n",
      "Aligning sequences from /home/qiime/Desktop/mothur_notebook/MiSeq_SOP/stability.trim.contigs.good.unique.fasta ...\n",
      "It took 30 secs to align 16426 sequences.\n",
      "\n",
      "\n",
      "Output File Names:\n",
      "/home/qiime/Desktop/mothur_notebook/MiSeq_SOP/stability.trim.contigs.good.unique.align\n",
      "/home/qiime/Desktop/mothur_notebook/MiSeq_SOP/stability.trim.contigs.good.unique.align.report\n",
      "\n",
      "\n",
      "mothur > quit()\n"
     ]
    }
   ],
   "source": [
    "%%mothur\n",
    "set.dir(input=./MiSeq_SOP)\n",
    "align.seqs(fasta=stability.trim.contigs.good.unique.fasta, reference=silva.bacteria/silva.v4.fasta)"
   ]
  },
  {
   "cell_type": "code",
   "execution_count": null,
   "metadata": {
    "collapsed": true
   },
   "outputs": [],
   "source": []
  },
  {
   "cell_type": "code",
   "execution_count": null,
   "metadata": {
    "collapsed": true
   },
   "outputs": [],
   "source": []
  },
  {
   "cell_type": "code",
   "execution_count": null,
   "metadata": {
    "collapsed": true
   },
   "outputs": [],
   "source": []
  }
 ],
 "metadata": {
  "kernelspec": {
   "display_name": "Python [Root]",
   "language": "python",
   "name": "Python [Root]"
  },
  "language_info": {
   "codemirror_mode": {
    "name": "ipython",
    "version": 2
   },
   "file_extension": ".py",
   "mimetype": "text/x-python",
   "name": "python",
   "nbconvert_exporter": "python",
   "pygments_lexer": "ipython2",
   "version": "2.7.11"
  }
 },
 "nbformat": 4,
 "nbformat_minor": 0
}
